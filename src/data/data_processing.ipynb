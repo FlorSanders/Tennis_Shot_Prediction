{
 "cells": [
  {
   "cell_type": "markdown",
   "metadata": {},
   "source": [
    "# Data Processing"
   ]
  },
  {
   "cell_type": "markdown",
   "metadata": {},
   "source": [
    "## Setup"
   ]
  },
  {
   "cell_type": "code",
   "execution_count": null,
   "metadata": {},
   "outputs": [],
   "source": [
    "%matplotlib inline\n",
    "%load_ext autoreload\n",
    "%autoreload 2"
   ]
  },
  {
   "cell_type": "markdown",
   "metadata": {},
   "source": [
    "## Step 1 - Split matches into point segments\n",
    "\n",
    "Starting from the full match videos and the annotations, we split them into shorter segments containing a single point."
   ]
  },
  {
   "cell_type": "code",
   "execution_count": 55,
   "metadata": {},
   "outputs": [],
   "source": [
    "# Import libraries\n",
    "import os\n",
    "import json\n",
    "import cv2\n",
    "from tqdm import tqdm"
   ]
  },
  {
   "cell_type": "code",
   "execution_count": 56,
   "metadata": {},
   "outputs": [
    {
     "name": "stdout",
     "output_type": "stream",
     "text": [
      "___VIDEOS___\n",
      "V006.mp4\n",
      "V007.mp4\n",
      "V008.mp4\n",
      "V009.mp4\n",
      "V010.mp4\n"
     ]
    }
   ],
   "source": [
    "# Constants\n",
    "from __init__ import data_path\n",
    "# Choose dataset\n",
    "dataset = \"tenniset\"\n",
    "dataset_path = os.path.join(data_path, dataset)\n",
    "videos_path = os.path.join(dataset_path, \"videos\")\n",
    "annotations_path = os.path.join(dataset_path, \"annotations\")\n",
    "\n",
    "# Read videos\n",
    "videos = sorted(os.listdir(videos_path))\n",
    "print(\"___VIDEOS___\")\n",
    "for video in videos: print(video)\n",
    "\n",
    "# Determine where to save segments\n",
    "segments_path = os.path.join(dataset_path, \"segments\")\n",
    "os.makedirs(segments_path, exist_ok=True)"
   ]
  },
  {
   "cell_type": "code",
   "execution_count": 61,
   "metadata": {},
   "outputs": [],
   "source": [
    "def segment_video(\n",
    "    video, \n",
    "    segment_by=\"Point\", \n",
    "    videos_path=videos_path, \n",
    "    annotations_path=annotations_path, \n",
    "    segments_path=segments_path,\n",
    "    overwrite=False,\n",
    "):\n",
    "    # Video & annotation path\n",
    "    video_name, video_ext = os.path.splitext(video)\n",
    "    video_path = os.path.join(videos_path, video)\n",
    "    annotation_path = os.path.join(annotations_path, video.replace(video_ext, \".json\"))\n",
    "\n",
    "    # Load annotation\n",
    "    with open(annotation_path) as annotation_file:\n",
    "        annotation = json.load(annotation_file)\n",
    "\n",
    "    # Load video\n",
    "    capture = cv2.VideoCapture(video_path)\n",
    "    frame = 0\n",
    "\n",
    "    # Get resolution & framerate from capture\n",
    "    frame_width = int(capture.get(cv2.CAP_PROP_FRAME_WIDTH))\n",
    "    frame_height = int(capture.get(cv2.CAP_PROP_FRAME_HEIGHT))\n",
    "    fps = capture.get(cv2.CAP_PROP_FPS)\n",
    "\n",
    "    # Perform segmentation\n",
    "    segments = annotation[\"classes\"][segment_by]\n",
    "    for index, segment in tqdm(enumerate(segments)):\n",
    "        # Determine path to save current segment\n",
    "        segment_nr = f\"{index}\".zfill(4)\n",
    "        segment_name = f\"{video_name}_{segment_nr}\"\n",
    "        segment_path = os.path.join(segments_path, f\"{segment_name}.mp4\")\n",
    "\n",
    "        # Don't overwrite if not needed\n",
    "        if os.path.exists(segment_path) and not overwrite:\n",
    "            continue\n",
    "\n",
    "        # Open video writer\n",
    "        writer = cv2.VideoWriter(segment_path, cv2.VideoWriter_fourcc(*\"avc1\"), fps, (frame_width, frame_height))\n",
    "\n",
    "        # segment points\n",
    "        start, end = int(segment[\"start\"]), int(segment[\"end\"])\n",
    "\n",
    "        # Fast forward to start of segment\n",
    "        frame = start\n",
    "        capture.set(1, frame)\n",
    "        \n",
    "        # Save frames to segment\n",
    "        while_safety = 0\n",
    "        max_while_safety = 500\n",
    "        while frame < end:\n",
    "            # Read frame\n",
    "            ret, img = capture.read()\n",
    "\n",
    "            # sometimes OpenCV reads None's during a video, in which case we want to just skip\n",
    "            assert while_safety < max_while_safety, f\"ERROR, cv2 read {max_while_safety} Nones\"\n",
    "            if ret == 0 or img is None: \n",
    "                while_safety += 1\n",
    "                continue \n",
    "            while_safety = 0\n",
    "\n",
    "            # Write frame\n",
    "            writer.write(img)\n",
    "\n",
    "            # Increase frame counter\n",
    "            frame += 1\n",
    "        \n",
    "        # Release writer\n",
    "        writer.release()\n",
    "    "
   ]
  },
  {
   "cell_type": "code",
   "execution_count": 62,
   "metadata": {},
   "outputs": [
    {
     "name": "stderr",
     "output_type": "stream",
     "text": [
      "81it [02:12,  1.63s/it]\n"
     ]
    }
   ],
   "source": [
    "segment_video(videos[0], overwrite=True)"
   ]
  },
  {
   "cell_type": "code",
   "execution_count": 63,
   "metadata": {},
   "outputs": [
    {
     "name": "stdout",
     "output_type": "stream",
     "text": [
      "Segmenting video V006.mp4\n"
     ]
    },
    {
     "name": "stderr",
     "output_type": "stream",
     "text": [
      "81it [02:27,  1.82s/it]\n"
     ]
    },
    {
     "name": "stdout",
     "output_type": "stream",
     "text": [
      "Segmenting video V007.mp4\n"
     ]
    },
    {
     "name": "stderr",
     "output_type": "stream",
     "text": [
      "129it [03:22,  1.57s/it]\n"
     ]
    },
    {
     "name": "stdout",
     "output_type": "stream",
     "text": [
      "Segmenting video V008.mp4\n"
     ]
    },
    {
     "name": "stderr",
     "output_type": "stream",
     "text": [
      "76it [01:59,  1.57s/it]\n"
     ]
    },
    {
     "name": "stdout",
     "output_type": "stream",
     "text": [
      "Segmenting video V009.mp4\n"
     ]
    },
    {
     "name": "stderr",
     "output_type": "stream",
     "text": [
      "366it [10:47,  1.77s/it]\n"
     ]
    },
    {
     "name": "stdout",
     "output_type": "stream",
     "text": [
      "Segmenting video V010.mp4\n"
     ]
    },
    {
     "name": "stderr",
     "output_type": "stream",
     "text": [
      "94it [02:31,  1.62s/it]\n"
     ]
    }
   ],
   "source": [
    "for video in videos:\n",
    "    print(f\"Segmenting video {video}\")\n",
    "    segment_video(video, overwrite=True)"
   ]
  },
  {
   "cell_type": "code",
   "execution_count": 67,
   "metadata": {},
   "outputs": [
    {
     "name": "stdout",
     "output_type": "stream",
     "text": [
      "Total number of videos: 746\n",
      "Total number of frames: 159494.0\n",
      "Total duration: 1.77 hours\n",
      "Average duration per video: 8.55 s\n"
     ]
    }
   ],
   "source": [
    "segment_files = [f for f in os.listdir(segments_path) if f.endswith('.mp4')]\n",
    "n_segments = len(segment_files)\n",
    "total_frames = 0\n",
    "total_duration = 0\n",
    "for segment in segment_files:\n",
    "    segment_path = os.path.join(segments_path, segment)\n",
    "    # Give the duration and number of frames of the video\n",
    "    data = cv2.VideoCapture(segment_path) \n",
    "    frames = data.get(cv2.CAP_PROP_FRAME_COUNT) \n",
    "    fps = data.get(cv2.CAP_PROP_FPS)\n",
    "    \n",
    "    # calculate duration of the video \n",
    "    duration = frames / fps\n",
    "\n",
    "    # Add to total\n",
    "    total_frames += frames\n",
    "    total_duration += duration\n",
    "\n",
    "print(f\"Total number of videos: {n_segments}\")\n",
    "print(f\"Total number of frames: {total_frames}\")\n",
    "print(f\"Total duration: {total_duration / 60 / 60:.2f} hours\")\n",
    "print(f\"Average duration per video: {total_duration / n_segments:.2f} seconds\")"
   ]
  },
  {
   "cell_type": "code",
   "execution_count": null,
   "metadata": {},
   "outputs": [],
   "source": []
  }
 ],
 "metadata": {
  "kernelspec": {
   "display_name": "teco",
   "language": "python",
   "name": "python3"
  },
  "language_info": {
   "codemirror_mode": {
    "name": "ipython",
    "version": 3
   },
   "file_extension": ".py",
   "mimetype": "text/x-python",
   "name": "python",
   "nbconvert_exporter": "python",
   "pygments_lexer": "ipython3",
   "version": "3.12.2"
  },
  "orig_nbformat": 4
 },
 "nbformat": 4,
 "nbformat_minor": 2
}
