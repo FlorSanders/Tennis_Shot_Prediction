{
 "cells": [
  {
   "cell_type": "markdown",
   "metadata": {},
   "source": [
    "# Data Processing"
   ]
  },
  {
   "cell_type": "markdown",
   "metadata": {},
   "source": [
    "## Setup"
   ]
  },
  {
   "cell_type": "code",
   "execution_count": 1,
   "metadata": {
    "tags": []
   },
   "outputs": [],
   "source": [
    "%matplotlib inline\n",
    "%load_ext autoreload\n",
    "%autoreload 2"
   ]
  },
  {
   "cell_type": "markdown",
   "metadata": {},
   "source": [
    "## Process Data"
   ]
  },
  {
   "cell_type": "markdown",
   "metadata": {
    "jp-MarkdownHeadingCollapsed": true
   },
   "source": [
    "### Step 1 - Split matches into point segments\n",
    "\n",
    "Starting from the full match videos and the annotations, we split them into shorter segments containing a single point."
   ]
  },
  {
   "cell_type": "code",
   "execution_count": 2,
   "metadata": {},
   "outputs": [],
   "source": [
    "# Import libraries\n",
    "import os\n",
    "import json\n",
    "import cv2\n",
    "from tqdm import tqdm"
   ]
  },
  {
   "cell_type": "code",
   "execution_count": 3,
   "metadata": {},
   "outputs": [
    {
     "name": "stdout",
     "output_type": "stream",
     "text": [
      "___VIDEOS___\n",
      "V006.mp4\n",
      "V007.mp4\n",
      "V008.mp4\n",
      "V009.mp4\n",
      "V010.mp4\n"
     ]
    }
   ],
   "source": [
    "# Constants\n",
    "from __init__ import data_path\n",
    "# Choose dataset\n",
    "dataset = \"tenniset\"\n",
    "dataset_path = os.path.join(data_path, dataset)\n",
    "videos_path = os.path.join(dataset_path, \"videos\")\n",
    "annotations_path = os.path.join(dataset_path, \"annotations\")\n",
    "\n",
    "# Read videos\n",
    "videos = sorted(os.listdir(videos_path))\n",
    "print(\"___VIDEOS___\")\n",
    "for video in videos: print(video)\n",
    "\n",
    "# Determine where to save segments\n",
    "segments_path = os.path.join(dataset_path, \"segments_alt\")\n",
    "os.makedirs(segments_path, exist_ok=True)"
   ]
  },
  {
   "cell_type": "code",
   "execution_count": 3,
   "metadata": {},
   "outputs": [],
   "source": [
    "def segment_video(\n",
    "    video, \n",
    "    segment_by=\"Point\", \n",
    "    videos_path=videos_path, \n",
    "    annotations_path=annotations_path, \n",
    "    segments_path=segments_path,\n",
    "    overwrite=False,\n",
    "):\n",
    "    # Video & annotation path\n",
    "    video_name, video_ext = os.path.splitext(video)\n",
    "    video_path = os.path.join(videos_path, video)\n",
    "    annotation_path = os.path.join(annotations_path, video.replace(video_ext, \".json\"))\n",
    "\n",
    "    # Load annotation\n",
    "    with open(annotation_path) as annotation_file:\n",
    "        annotation = json.load(annotation_file)\n",
    "\n",
    "    # Load video\n",
    "    capture = cv2.VideoCapture(video_path)\n",
    "    frame = 0\n",
    "\n",
    "    # Get resolution & framerate from capture\n",
    "    frame_width = int(capture.get(cv2.CAP_PROP_FRAME_WIDTH))\n",
    "    frame_height = int(capture.get(cv2.CAP_PROP_FRAME_HEIGHT))\n",
    "    fps = capture.get(cv2.CAP_PROP_FPS)\n",
    "\n",
    "    # Perform segmentation\n",
    "    segments = annotation[\"classes\"][segment_by]\n",
    "    for index, segment in tqdm(enumerate(segments)):\n",
    "        # Determine path to save current segment\n",
    "        segment_nr = f\"{index}\".zfill(4)\n",
    "        segment_name = f\"{video_name}_{segment_nr}\"\n",
    "        segment_path = os.path.join(segments_path, f\"{segment_name}.mp4\")\n",
    "\n",
    "        # Don't overwrite if not needed\n",
    "        if os.path.exists(segment_path) and not overwrite:\n",
    "            continue\n",
    "\n",
    "        # Open video writer\n",
    "        writer = cv2.VideoWriter(segment_path, cv2.VideoWriter_fourcc(*\"avc1\"), fps, (frame_width, frame_height))\n",
    "\n",
    "        # segment points\n",
    "        start, end = int(segment[\"start\"]), int(segment[\"end\"])\n",
    "\n",
    "        # Fast forward to start of segment\n",
    "        frame = start\n",
    "        capture.set(1, frame)\n",
    "        \n",
    "        # Save frames to segment\n",
    "        while_safety = 0\n",
    "        max_while_safety = 500\n",
    "        while frame < end:\n",
    "            # Read frame\n",
    "            ret, img = capture.read()\n",
    "\n",
    "            # Sometimes OpenCV reads None's during a video, in which case we want to just skip\n",
    "            assert while_safety < max_while_safety, f\"ERROR, cv2 read {max_while_safety} Nones\"\n",
    "            if ret == 0 or img is None: \n",
    "                while_safety += 1\n",
    "                continue \n",
    "            while_safety = 0\n",
    "\n",
    "            # Write frame\n",
    "            writer.write(img)\n",
    "\n",
    "            # Increase frame counter\n",
    "            frame += 1\n",
    "        \n",
    "        # Release writer\n",
    "        writer.release()\n",
    "    "
   ]
  },
  {
   "cell_type": "code",
   "execution_count": null,
   "metadata": {},
   "outputs": [],
   "source": [
    "segment_video(videos[0], overwrite=True)"
   ]
  },
  {
   "cell_type": "code",
   "execution_count": null,
   "metadata": {},
   "outputs": [],
   "source": [
    "for video in videos:\n",
    "    print(f\"Segmenting video {video}\")\n",
    "    segment_video(video, overwrite=True)"
   ]
  },
  {
   "cell_type": "code",
   "execution_count": null,
   "metadata": {},
   "outputs": [],
   "source": [
    "segment_files = [f for f in os.listdir(segments_path) if f.endswith('.mp4')]\n",
    "n_segments = len(segment_files)\n",
    "total_frames = 0\n",
    "total_duration = 0\n",
    "for segment in segment_files:\n",
    "    segment_path = os.path.join(segments_path, segment)\n",
    "    # Give the duration and number of frames of the video\n",
    "    data = cv2.VideoCapture(segment_path) \n",
    "    frames = data.get(cv2.CAP_PROP_FRAME_COUNT) \n",
    "    fps = data.get(cv2.CAP_PROP_FPS)\n",
    "    \n",
    "    # calculate duration of the video \n",
    "    duration = frames / fps\n",
    "\n",
    "    # Add to total\n",
    "    total_frames += frames\n",
    "    total_duration += duration\n",
    "\n",
    "print(f\"Total number of videos: {n_segments}\")\n",
    "print(f\"Total number of frames: {total_frames}\")\n",
    "print(f\"Total duration: {total_duration / 60 / 60:.2f} hours\")\n",
    "print(f\"Average duration per video: {total_duration / n_segments:.2f} seconds\")"
   ]
  },
  {
   "cell_type": "code",
   "execution_count": null,
   "metadata": {},
   "outputs": [],
   "source": []
  },
  {
   "cell_type": "markdown",
   "metadata": {},
   "source": [
    "### Step 2 - Court, Player & Ball Detection"
   ]
  },
  {
   "cell_type": "code",
   "execution_count": 2,
   "metadata": {
    "tags": []
   },
   "outputs": [
    {
     "name": "stdout",
     "output_type": "stream",
     "text": [
      "Using device cuda\n"
     ]
    }
   ],
   "source": [
    "# Import libaries\n",
    "import os\n",
    "import sys\n",
    "import cv2\n",
    "import numpy as np\n",
    "import torch\n",
    "import time\n",
    "import matplotlib.pyplot as plt\n",
    "import pickle\n",
    "from tqdm import tqdm\n",
    "\n",
    "device = 'cuda' if torch.cuda.is_available() else 'cpu'\n",
    "print(f\"Using device {device}\")"
   ]
  },
  {
   "cell_type": "markdown",
   "metadata": {},
   "source": [
    "We make use of the pre-trained models provided by the tennis-project repository:\n",
    "- [Ball Detection](https://drive.google.com/file/d/1XEYZ4myUN7QT-NeBYJI0xteLsvs-ZAOl/view): Save as `models/data/ball_detection/model.pt`\n",
    "- [Court Detection](https://drive.google.com/file/d/1f-Co64ehgq4uddcQm1aFBDtbnyZhQvgG/view): Save as `models/data/court_detection/model.pt`"
   ]
  },
  {
   "cell_type": "code",
   "execution_count": 3,
   "metadata": {},
   "outputs": [],
   "source": [
    "# Constants\n",
    "from __init__ import data_path, models_path\n",
    "\n",
    "# Choose dataset\n",
    "dataset = \"tenniset\"\n",
    "dataset_path = os.path.join(data_path, dataset)\n",
    "segments_path = os.path.join(dataset_path, \"segments\")\n",
    "labels_path = os.path.join(dataset_path, \"labels\")\n",
    "os.makedirs(labels_path, exist_ok=True)\n",
    "\n",
    "# Model paths\n",
    "model_ball_detection_path = os.path.join(models_path, \"ball_detection\", \"model.pt\")\n",
    "model_court_detection_path = os.path.join(models_path, \"court_detection\", \"model.pt\")\n",
    "assert os.path.exists(model_ball_detection_path), \"Please download model\"\n",
    "assert os.path.exists(model_court_detection_path), \"Please download model\""
   ]
  },
  {
   "cell_type": "code",
   "execution_count": 4,
   "metadata": {},
   "outputs": [
    {
     "name": "stderr",
     "output_type": "stream",
     "text": [
      "/opt/conda/envs/teco/lib/python3.9/site-packages/tqdm/auto.py:21: TqdmWarning: IProgress not found. Please update jupyter and ipywidgets. See https://ipywidgets.readthedocs.io/en/stable/user_install.html\n",
      "  from .autonotebook import tqdm as notebook_tqdm\n"
     ]
    }
   ],
   "source": [
    "# Import tennis-project objects\n",
    "cwd = os.getcwd()\n",
    "tennis_project_path = os.path.abspath(os.path.join(cwd, \"tennis-project\"))\n",
    "sys.path.append(tennis_project_path)\n",
    "from court_detection_net import CourtDetectorNet\n",
    "from court_reference import CourtReference\n",
    "from bounce_detector import BounceDetector\n",
    "from person_detector import PersonDetector\n",
    "from ball_detector import BallDetector\n",
    "from utils import scene_detect\n",
    "from main import read_video\n",
    "from main import get_court_img"
   ]
  },
  {
   "cell_type": "code",
   "execution_count": 5,
   "metadata": {},
   "outputs": [
    {
     "name": "stdout",
     "output_type": "stream",
     "text": [
      "Number of segment files: 746\n"
     ]
    }
   ],
   "source": [
    "# Read segment files\n",
    "segment_files = [file for file in sorted(os.listdir(segments_path)) if os.path.splitext(file)[-1] == \".mp4\"]\n",
    "print(f\"Number of segment files: {len(segment_files)}\")"
   ]
  },
  {
   "cell_type": "code",
   "execution_count": 18,
   "metadata": {},
   "outputs": [],
   "source": [
    "def process_segment(\n",
    "    segment_path, \n",
    "    labels_path = labels_path, \n",
    "    verbose = True,\n",
    "    overwrite=False,\n",
    "):\n",
    "    # Start\n",
    "    start_time = time.time()\n",
    "\n",
    "    # Check if segment already processed (by last saved file)\n",
    "    segment_dir, segment_filename = os.path.split(segment_path)\n",
    "    segment_name, segment_ext = os.path.splitext(segment_filename)\n",
    "    if os.path.exists(os.path.join(labels_path, f\"{segment_name}_ball.npy\")) and not overwrite:\n",
    "        #if verbose: print(f\"Segment {segment_name} already processed\")\n",
    "        return\n",
    "    if verbose: print(f\"Processing segment: {segment_name}\")\n",
    "\n",
    "    # Read video\n",
    "    if verbose: print(\"Reading video\")\n",
    "    frames, fps =  read_video(segment_path)\n",
    "    frames = frames\n",
    "    video_time = time.time()\n",
    "    if verbose: print(f\"Done reading {len(frames)} video frames ({video_time - start_time} s)\")\n",
    "\n",
    "    # Load models\n",
    "    if verbose: print(\"Loading models\")\n",
    "    ball_detector = BallDetector(model_ball_detection_path, device)\n",
    "    court_detector = CourtDetectorNet(model_court_detection_path, device)\n",
    "    person_detector = PersonDetector(device)\n",
    "    models_time = time.time()\n",
    "    if verbose: print(f\"Done loading models ({models_time - video_time} s)\")\n",
    "\n",
    "    # Detect court \n",
    "    if verbose: print(\"Detecting court\")\n",
    "    homography_matrices, kps_court = court_detector.infer_model(frames)\n",
    "    court_time = time.time()\n",
    "    if verbose: print(f\"Done detecting court ({court_time - models_time} s)\")\n",
    "    \n",
    "    # Detect whether frames are valid (i.e. court is detected)\n",
    "    frames_is_valid = np.array([not detection is None for detection in kps_court])\n",
    "    frames = [frame for frame, frame_is_valid in zip(frames, frames_is_valid) if frame_is_valid]\n",
    "    homography_matrices = [matrix for matrix, frame_is_valid in zip(homography_matrices, frames_is_valid) if frame_is_valid]\n",
    "    kps_court = [points for points, frame_is_valid in zip(kps_court, frames_is_valid) if frame_is_valid]\n",
    "\n",
    "    # Detect people\n",
    "    if verbose: print(\"Detecting people\")\n",
    "    persons_top, persons_bottom = person_detector.track_players(frames, homography_matrices, filter_players=False)\n",
    "    people_time = time.time()\n",
    "    if verbose: print(f\"Done detecting people ({people_time - court_time} s)\")\n",
    "\n",
    "    # Detect ball trajectory\n",
    "    if verbose: print(\"Detecting ball trajectory\")\n",
    "    ball_track = ball_detector.infer_model(frames)\n",
    "    ball_time = time.time()\n",
    "    if verbose: print(f\"Done detecting ball trajectory ({ball_time - people_time} s)\")\n",
    "\n",
    "    # Export labels\n",
    "    if verbose: print(\"Saving results\")\n",
    "    # Save frame validities\n",
    "    frames_is_valid_file = os.path.join(labels_path, f\"{segment_name}_frame_validity.npy\")\n",
    "    np.save(frames_is_valid_file, frames_is_valid)\n",
    "    # Save court\n",
    "    court_file = os.path.join(labels_path, f\"{segment_name}_court.npy\")\n",
    "    court_sequence = np.squeeze(np.array(kps_court))\n",
    "    np.save(court_file, court_sequence)\n",
    "    # Save players\n",
    "    for player_name, player_sequence in zip([\"btm\", \"top\"], [persons_bottom, persons_top]):\n",
    "        player_file = os.path.join(labels_path, f\"{segment_name}_player_{player_name}_bbox.npy\")\n",
    "        player_sequence = np.array([item[0][0] if len(item) else [None] * 4 for item in player_sequence])\n",
    "        np.save(player_file, player_sequence)\n",
    "    # Save ball trajectory\n",
    "    ball_file = os.path.join(labels_path, f\"{segment_name}_ball.npy\")\n",
    "    ball_sequence = np.array(ball_track)\n",
    "    np.save(ball_file, ball_sequence)\n",
    "    save_time = time.time()\n",
    "    if verbose: print(f\"Done detecting ball trajectory ({save_time - ball_time} s)\")\n",
    "    if verbose: print(f\"Total time: {save_time - start_time} s\")"
   ]
  },
  {
   "cell_type": "code",
   "execution_count": 19,
   "metadata": {},
   "outputs": [],
   "source": [
    "process_segment(os.path.join(segments_path, segment_files[0]), overwrite=False, verbose=True)"
   ]
  },
  {
   "cell_type": "code",
   "execution_count": 20,
   "metadata": {},
   "outputs": [
    {
     "name": "stdout",
     "output_type": "stream",
     "text": [
      "Processing segment: V007_0022\n",
      "Reading video\n",
      "Done reading 236 video frames (0.5299117565155029 s)\n",
      "Loading models\n",
      "Done loading models (1.0037474632263184 s)\n",
      "Detecting court\n"
     ]
    },
    {
     "name": "stderr",
     "output_type": "stream",
     "text": [
      "100%|████████████████████████████████████████████████████████████████████████████████| 236/236 [00:33<00:00,  7.05it/s]\n"
     ]
    },
    {
     "name": "stdout",
     "output_type": "stream",
     "text": [
      "Done detecting court (33.479904651641846 s)\n",
      "Detecting people\n"
     ]
    },
    {
     "name": "stderr",
     "output_type": "stream",
     "text": [
      "100%|████████████████████████████████████████████████████████████████████████████████| 236/236 [00:32<00:00,  7.22it/s]\n"
     ]
    },
    {
     "name": "stdout",
     "output_type": "stream",
     "text": [
      "Done detecting people (32.709535121917725 s)\n",
      "Detecting ball trajectory\n"
     ]
    },
    {
     "name": "stderr",
     "output_type": "stream",
     "text": [
      "100%|████████████████████████████████████████████████████████████████████████████████| 234/234 [00:21<00:00, 10.83it/s]\n"
     ]
    },
    {
     "name": "stdout",
     "output_type": "stream",
     "text": [
      "Done detecting ball trajectory (21.618294715881348 s)\n",
      "Saving results\n",
      "Done detecting ball trajectory (0.0029594898223876953 s)\n",
      "Total time: 89.34435319900513 s\n",
      "Processing segment: V007_0023\n",
      "Reading video\n",
      "Done reading 119 video frames (0.1825871467590332 s)\n",
      "Loading models\n",
      "Done loading models (0.9323697090148926 s)\n",
      "Detecting court\n"
     ]
    },
    {
     "name": "stderr",
     "output_type": "stream",
     "text": [
      "100%|████████████████████████████████████████████████████████████████████████████████| 119/119 [00:16<00:00,  7.35it/s]\n"
     ]
    },
    {
     "name": "stdout",
     "output_type": "stream",
     "text": [
      "Done detecting court (16.186379432678223 s)\n",
      "Detecting people\n"
     ]
    },
    {
     "name": "stderr",
     "output_type": "stream",
     "text": [
      "100%|████████████████████████████████████████████████████████████████████████████████| 119/119 [00:16<00:00,  7.16it/s]\n"
     ]
    },
    {
     "name": "stdout",
     "output_type": "stream",
     "text": [
      "Done detecting people (16.614392518997192 s)\n",
      "Detecting ball trajectory\n"
     ]
    },
    {
     "name": "stderr",
     "output_type": "stream",
     "text": [
      "100%|████████████████████████████████████████████████████████████████████████████████| 117/117 [00:10<00:00, 10.84it/s]\n"
     ]
    },
    {
     "name": "stdout",
     "output_type": "stream",
     "text": [
      "Done detecting ball trajectory (10.79816198348999 s)\n",
      "Saving results\n",
      "Done detecting ball trajectory (0.0015401840209960938 s)\n",
      "Total time: 44.71543097496033 s\n",
      "Processing segment: V007_0024\n",
      "Reading video\n",
      "Done reading 232 video frames (0.31914591789245605 s)\n",
      "Loading models\n",
      "Done loading models (1.1277592182159424 s)\n",
      "Detecting court\n"
     ]
    },
    {
     "name": "stderr",
     "output_type": "stream",
     "text": [
      "100%|████████████████████████████████████████████████████████████████████████████████| 232/232 [00:29<00:00,  7.88it/s]\n"
     ]
    },
    {
     "name": "stdout",
     "output_type": "stream",
     "text": [
      "Done detecting court (29.439216375350952 s)\n",
      "Detecting people\n"
     ]
    },
    {
     "name": "stderr",
     "output_type": "stream",
     "text": [
      "100%|████████████████████████████████████████████████████████████████████████████████| 174/174 [00:24<00:00,  7.17it/s]\n"
     ]
    },
    {
     "name": "stdout",
     "output_type": "stream",
     "text": [
      "Done detecting people (24.282504558563232 s)\n",
      "Detecting ball trajectory\n"
     ]
    },
    {
     "name": "stderr",
     "output_type": "stream",
     "text": [
      "100%|████████████████████████████████████████████████████████████████████████████████| 172/172 [00:15<00:00, 10.80it/s]\n"
     ]
    },
    {
     "name": "stdout",
     "output_type": "stream",
     "text": [
      "Done detecting ball trajectory (15.927547693252563 s)\n",
      "Saving results\n",
      "Done detecting ball trajectory (0.002607583999633789 s)\n",
      "Total time: 71.09878134727478 s\n",
      "Processing segment: V007_0025\n",
      "Reading video\n",
      "Done reading 258 video frames (0.34149837493896484 s)\n",
      "Loading models\n",
      "Done loading models (0.963024377822876 s)\n",
      "Detecting court\n"
     ]
    },
    {
     "name": "stderr",
     "output_type": "stream",
     "text": [
      "100%|████████████████████████████████████████████████████████████████████████████████| 258/258 [00:34<00:00,  7.54it/s]\n"
     ]
    },
    {
     "name": "stdout",
     "output_type": "stream",
     "text": [
      "Done detecting court (34.23949980735779 s)\n",
      "Detecting people\n"
     ]
    },
    {
     "name": "stderr",
     "output_type": "stream",
     "text": [
      "100%|████████████████████████████████████████████████████████████████████████████████| 258/258 [00:36<00:00,  7.12it/s]\n"
     ]
    },
    {
     "name": "stdout",
     "output_type": "stream",
     "text": [
      "Done detecting people (36.21637797355652 s)\n",
      "Detecting ball trajectory\n"
     ]
    },
    {
     "name": "stderr",
     "output_type": "stream",
     "text": [
      "100%|████████████████████████████████████████████████████████████████████████████████| 256/256 [00:23<00:00, 10.85it/s]\n"
     ]
    },
    {
     "name": "stdout",
     "output_type": "stream",
     "text": [
      "Done detecting ball trajectory (23.595343828201294 s)\n",
      "Saving results\n",
      "Done detecting ball trajectory (0.0027055740356445312 s)\n",
      "Total time: 95.35844993591309 s\n",
      "Processing segment: V007_0026\n",
      "Reading video\n",
      "Done reading 87 video frames (0.12650775909423828 s)\n",
      "Loading models\n",
      "Done loading models (0.9291062355041504 s)\n",
      "Detecting court\n"
     ]
    },
    {
     "name": "stderr",
     "output_type": "stream",
     "text": [
      "100%|██████████████████████████████████████████████████████████████████████████████████| 87/87 [00:09<00:00,  8.86it/s]\n"
     ]
    },
    {
     "name": "stdout",
     "output_type": "stream",
     "text": [
      "Done detecting court (9.820783853530884 s)\n",
      "Detecting people\n"
     ]
    },
    {
     "name": "stderr",
     "output_type": "stream",
     "text": [
      "100%|██████████████████████████████████████████████████████████████████████████████████| 69/69 [00:09<00:00,  7.19it/s]\n"
     ]
    },
    {
     "name": "stdout",
     "output_type": "stream",
     "text": [
      "Done detecting people (9.592588186264038 s)\n",
      "Detecting ball trajectory\n"
     ]
    },
    {
     "name": "stderr",
     "output_type": "stream",
     "text": [
      "100%|██████████████████████████████████████████████████████████████████████████████████| 67/67 [00:06<00:00, 11.05it/s]\n"
     ]
    },
    {
     "name": "stdout",
     "output_type": "stream",
     "text": [
      "Done detecting ball trajectory (6.069864511489868 s)\n",
      "Saving results\n",
      "Done detecting ball trajectory (0.0012171268463134766 s)\n",
      "Total time: 26.540067672729492 s\n",
      "Processing segment: V007_0027\n",
      "Reading video\n",
      "Done reading 179 video frames (0.25244593620300293 s)\n",
      "Loading models\n",
      "Done loading models (0.9455907344818115 s)\n",
      "Detecting court\n"
     ]
    },
    {
     "name": "stderr",
     "output_type": "stream",
     "text": [
      "100%|████████████████████████████████████████████████████████████████████████████████| 179/179 [00:22<00:00,  7.85it/s]\n"
     ]
    },
    {
     "name": "stdout",
     "output_type": "stream",
     "text": [
      "Done detecting court (22.80826187133789 s)\n",
      "Detecting people\n"
     ]
    },
    {
     "name": "stderr",
     "output_type": "stream",
     "text": [
      "100%|████████████████████████████████████████████████████████████████████████████████| 179/179 [00:25<00:00,  7.14it/s]\n"
     ]
    },
    {
     "name": "stdout",
     "output_type": "stream",
     "text": [
      "Done detecting people (25.073713541030884 s)\n",
      "Detecting ball trajectory\n"
     ]
    },
    {
     "name": "stderr",
     "output_type": "stream",
     "text": [
      "100%|████████████████████████████████████████████████████████████████████████████████| 177/177 [00:16<00:00, 10.82it/s]\n"
     ]
    },
    {
     "name": "stdout",
     "output_type": "stream",
     "text": [
      "Done detecting ball trajectory (16.368775129318237 s)\n",
      "Saving results\n",
      "Done detecting ball trajectory (0.002154827117919922 s)\n",
      "Total time: 65.45094203948975 s\n",
      "Processing segment: V007_0028\n",
      "Reading video\n",
      "Done reading 87 video frames (0.12893414497375488 s)\n",
      "Loading models\n",
      "Done loading models (0.9427957534790039 s)\n",
      "Detecting court\n"
     ]
    },
    {
     "name": "stderr",
     "output_type": "stream",
     "text": [
      "100%|██████████████████████████████████████████████████████████████████████████████████| 87/87 [00:09<00:00,  9.29it/s]\n"
     ]
    },
    {
     "name": "stdout",
     "output_type": "stream",
     "text": [
      "Done detecting court (9.372141599655151 s)\n",
      "Detecting people\n"
     ]
    },
    {
     "name": "stderr",
     "output_type": "stream",
     "text": [
      "100%|██████████████████████████████████████████████████████████████████████████████████| 66/66 [00:09<00:00,  7.21it/s]\n"
     ]
    },
    {
     "name": "stdout",
     "output_type": "stream",
     "text": [
      "Done detecting people (9.156185865402222 s)\n",
      "Detecting ball trajectory\n"
     ]
    },
    {
     "name": "stderr",
     "output_type": "stream",
     "text": [
      "100%|██████████████████████████████████████████████████████████████████████████████████| 64/64 [00:05<00:00, 11.03it/s]\n"
     ]
    },
    {
     "name": "stdout",
     "output_type": "stream",
     "text": [
      "Done detecting ball trajectory (5.805186986923218 s)\n",
      "Saving results\n",
      "Done detecting ball trajectory (0.0014104843139648438 s)\n",
      "Total time: 25.406654834747314 s\n",
      "Processing segment: V007_0029\n",
      "Reading video\n",
      "Done reading 122 video frames (0.18904590606689453 s)\n",
      "Loading models\n",
      "Done loading models (0.9235548973083496 s)\n",
      "Detecting court\n"
     ]
    },
    {
     "name": "stderr",
     "output_type": "stream",
     "text": [
      "100%|████████████████████████████████████████████████████████████████████████████████| 122/122 [00:12<00:00,  9.72it/s]\n"
     ]
    },
    {
     "name": "stdout",
     "output_type": "stream",
     "text": [
      "Done detecting court (12.555094242095947 s)\n",
      "Detecting people\n"
     ]
    },
    {
     "name": "stderr",
     "output_type": "stream",
     "text": [
      "100%|██████████████████████████████████████████████████████████████████████████████████| 52/52 [00:07<00:00,  7.30it/s]\n"
     ]
    },
    {
     "name": "stdout",
     "output_type": "stream",
     "text": [
      "Done detecting people (7.128314256668091 s)\n",
      "Detecting ball trajectory\n"
     ]
    },
    {
     "name": "stderr",
     "output_type": "stream",
     "text": [
      "100%|██████████████████████████████████████████████████████████████████████████████████| 50/50 [00:04<00:00, 10.80it/s]\n"
     ]
    },
    {
     "name": "stdout",
     "output_type": "stream",
     "text": [
      "Done detecting ball trajectory (4.634518146514893 s)\n",
      "Saving results\n",
      "Done detecting ball trajectory (0.001684427261352539 s)\n",
      "Total time: 25.432211875915527 s\n",
      "Processing segment: V007_0030\n",
      "Reading video\n",
      "Done reading 198 video frames (0.298450231552124 s)\n",
      "Loading models\n",
      "Done loading models (0.9451954364776611 s)\n",
      "Detecting court\n"
     ]
    },
    {
     "name": "stderr",
     "output_type": "stream",
     "text": [
      "100%|████████████████████████████████████████████████████████████████████████████████| 198/198 [00:24<00:00,  8.17it/s]\n"
     ]
    },
    {
     "name": "stdout",
     "output_type": "stream",
     "text": [
      "Done detecting court (24.231386423110962 s)\n",
      "Detecting people\n"
     ]
    },
    {
     "name": "stderr",
     "output_type": "stream",
     "text": [
      "100%|████████████████████████████████████████████████████████████████████████████████| 198/198 [00:27<00:00,  7.15it/s]\n"
     ]
    },
    {
     "name": "stdout",
     "output_type": "stream",
     "text": [
      "Done detecting people (27.678955793380737 s)\n",
      "Detecting ball trajectory\n"
     ]
    },
    {
     "name": "stderr",
     "output_type": "stream",
     "text": [
      "100%|████████████████████████████████████████████████████████████████████████████████| 196/196 [00:18<00:00, 10.81it/s]\n"
     ]
    },
    {
     "name": "stdout",
     "output_type": "stream",
     "text": [
      "Done detecting ball trajectory (18.12679386138916 s)\n",
      "Saving results\n",
      "Done detecting ball trajectory (0.003313302993774414 s)\n",
      "Total time: 71.28409504890442 s\n",
      "Processing segment: V007_0031\n",
      "Reading video\n",
      "Done reading 165 video frames (0.2539253234863281 s)\n",
      "Loading models\n",
      "Done loading models (0.9282276630401611 s)\n",
      "Detecting court\n"
     ]
    },
    {
     "name": "stderr",
     "output_type": "stream",
     "text": [
      "100%|████████████████████████████████████████████████████████████████████████████████| 165/165 [00:18<00:00,  9.09it/s]\n"
     ]
    },
    {
     "name": "stdout",
     "output_type": "stream",
     "text": [
      "Done detecting court (18.162561416625977 s)\n",
      "Detecting people\n"
     ]
    },
    {
     "name": "stderr",
     "output_type": "stream",
     "text": [
      "100%|████████████████████████████████████████████████████████████████████████████████| 119/119 [00:16<00:00,  7.19it/s]\n"
     ]
    },
    {
     "name": "stdout",
     "output_type": "stream",
     "text": [
      "Done detecting people (16.550079345703125 s)\n",
      "Detecting ball trajectory\n"
     ]
    },
    {
     "name": "stderr",
     "output_type": "stream",
     "text": [
      "100%|████████████████████████████████████████████████████████████████████████████████| 117/117 [00:10<00:00, 10.96it/s]\n"
     ]
    },
    {
     "name": "stdout",
     "output_type": "stream",
     "text": [
      "Done detecting ball trajectory (10.676548719406128 s)\n",
      "Saving results\n",
      "Done detecting ball trajectory (0.0019648075103759766 s)\n",
      "Total time: 46.573307275772095 s\n",
      "Processing segment: V007_0032\n",
      "Reading video\n",
      "Done reading 190 video frames (0.2717413902282715 s)\n",
      "Loading models\n",
      "Done loading models (0.9431378841400146 s)\n",
      "Detecting court\n"
     ]
    },
    {
     "name": "stderr",
     "output_type": "stream",
     "text": [
      "100%|████████████████████████████████████████████████████████████████████████████████| 190/190 [00:22<00:00,  8.55it/s]\n"
     ]
    },
    {
     "name": "stdout",
     "output_type": "stream",
     "text": [
      "Done detecting court (22.237085580825806 s)\n",
      "Detecting people\n"
     ]
    },
    {
     "name": "stderr",
     "output_type": "stream",
     "text": [
      "100%|████████████████████████████████████████████████████████████████████████████████| 190/190 [00:26<00:00,  7.17it/s]\n"
     ]
    },
    {
     "name": "stdout",
     "output_type": "stream",
     "text": [
      "Done detecting people (26.50379991531372 s)\n",
      "Detecting ball trajectory\n"
     ]
    },
    {
     "name": "stderr",
     "output_type": "stream",
     "text": [
      "100%|████████████████████████████████████████████████████████████████████████████████| 188/188 [00:17<00:00, 10.82it/s]\n"
     ]
    },
    {
     "name": "stdout",
     "output_type": "stream",
     "text": [
      "Done detecting ball trajectory (17.381391763687134 s)\n",
      "Saving results\n",
      "Done detecting ball trajectory (0.002324342727661133 s)\n",
      "Total time: 67.33948087692261 s\n",
      "Processing segment: V007_0033\n",
      "Reading video\n",
      "Done reading 197 video frames (0.3048899173736572 s)\n",
      "Loading models\n",
      "Done loading models (0.9463992118835449 s)\n",
      "Detecting court\n"
     ]
    },
    {
     "name": "stderr",
     "output_type": "stream",
     "text": [
      "100%|████████████████████████████████████████████████████████████████████████████████| 197/197 [00:24<00:00,  8.03it/s]\n"
     ]
    },
    {
     "name": "stdout",
     "output_type": "stream",
     "text": [
      "Done detecting court (24.541680097579956 s)\n",
      "Detecting people\n"
     ]
    },
    {
     "name": "stderr",
     "output_type": "stream",
     "text": [
      "100%|████████████████████████████████████████████████████████████████████████████████| 197/197 [00:27<00:00,  7.18it/s]\n"
     ]
    },
    {
     "name": "stdout",
     "output_type": "stream",
     "text": [
      "Done detecting people (27.449809074401855 s)\n",
      "Detecting ball trajectory\n"
     ]
    },
    {
     "name": "stderr",
     "output_type": "stream",
     "text": [
      "100%|████████████████████████████████████████████████████████████████████████████████| 195/195 [00:18<00:00, 10.83it/s]\n"
     ]
    },
    {
     "name": "stdout",
     "output_type": "stream",
     "text": [
      "Done detecting ball trajectory (18.010695219039917 s)\n",
      "Saving results\n",
      "Done detecting ball trajectory (0.002567768096923828 s)\n",
      "Total time: 71.25604128837585 s\n",
      "Processing segment: V007_0034\n",
      "Reading video\n",
      "Done reading 183 video frames (0.252469539642334 s)\n",
      "Loading models\n",
      "Done loading models (0.9349396228790283 s)\n",
      "Detecting court\n"
     ]
    },
    {
     "name": "stderr",
     "output_type": "stream",
     "text": [
      "100%|████████████████████████████████████████████████████████████████████████████████| 183/183 [00:21<00:00,  8.46it/s]\n"
     ]
    },
    {
     "name": "stdout",
     "output_type": "stream",
     "text": [
      "Done detecting court (21.638756036758423 s)\n",
      "Detecting people\n"
     ]
    },
    {
     "name": "stderr",
     "output_type": "stream",
     "text": [
      "100%|████████████████████████████████████████████████████████████████████████████████| 183/183 [00:25<00:00,  7.17it/s]\n"
     ]
    },
    {
     "name": "stdout",
     "output_type": "stream",
     "text": [
      "Done detecting people (25.532659769058228 s)\n",
      "Detecting ball trajectory\n"
     ]
    },
    {
     "name": "stderr",
     "output_type": "stream",
     "text": [
      "100%|████████████████████████████████████████████████████████████████████████████████| 181/181 [00:16<00:00, 10.80it/s]\n"
     ]
    },
    {
     "name": "stdout",
     "output_type": "stream",
     "text": [
      "Done detecting ball trajectory (16.762274265289307 s)\n",
      "Saving results\n",
      "Done detecting ball trajectory (0.002215147018432617 s)\n",
      "Total time: 65.12331438064575 s\n",
      "Processing segment: V007_0035\n",
      "Reading video\n",
      "Done reading 166 video frames (0.2409524917602539 s)\n",
      "Loading models\n",
      "Done loading models (0.9378037452697754 s)\n",
      "Detecting court\n"
     ]
    },
    {
     "name": "stderr",
     "output_type": "stream",
     "text": [
      "100%|████████████████████████████████████████████████████████████████████████████████| 166/166 [00:19<00:00,  8.44it/s]\n"
     ]
    },
    {
     "name": "stdout",
     "output_type": "stream",
     "text": [
      "Done detecting court (19.67188596725464 s)\n",
      "Detecting people\n"
     ]
    },
    {
     "name": "stderr",
     "output_type": "stream",
     "text": [
      "100%|████████████████████████████████████████████████████████████████████████████████| 166/166 [00:23<00:00,  7.19it/s]\n"
     ]
    },
    {
     "name": "stdout",
     "output_type": "stream",
     "text": [
      "Done detecting people (23.089958429336548 s)\n",
      "Detecting ball trajectory\n"
     ]
    },
    {
     "name": "stderr",
     "output_type": "stream",
     "text": [
      "100%|████████████████████████████████████████████████████████████████████████████████| 164/164 [00:15<00:00, 10.84it/s]\n"
     ]
    },
    {
     "name": "stdout",
     "output_type": "stream",
     "text": [
      "Done detecting ball trajectory (15.125571489334106 s)\n",
      "Saving results\n",
      "Done detecting ball trajectory (0.0020046234130859375 s)\n",
      "Total time: 59.06817674636841 s\n",
      "Processing segment: V007_0036\n",
      "Reading video\n",
      "Done reading 121 video frames (0.1813971996307373 s)\n",
      "Loading models\n",
      "Done loading models (0.9209215641021729 s)\n",
      "Detecting court\n"
     ]
    },
    {
     "name": "stderr",
     "output_type": "stream",
     "text": [
      "100%|████████████████████████████████████████████████████████████████████████████████| 121/121 [00:14<00:00,  8.34it/s]\n"
     ]
    },
    {
     "name": "stdout",
     "output_type": "stream",
     "text": [
      "Done detecting court (14.504030704498291 s)\n",
      "Detecting people\n"
     ]
    },
    {
     "name": "stderr",
     "output_type": "stream",
     "text": [
      "100%|████████████████████████████████████████████████████████████████████████████████| 121/121 [00:16<00:00,  7.16it/s]\n"
     ]
    },
    {
     "name": "stdout",
     "output_type": "stream",
     "text": [
      "Done detecting people (16.891168355941772 s)\n",
      "Detecting ball trajectory\n"
     ]
    },
    {
     "name": "stderr",
     "output_type": "stream",
     "text": [
      "100%|████████████████████████████████████████████████████████████████████████████████| 119/119 [00:10<00:00, 10.83it/s]\n"
     ]
    },
    {
     "name": "stdout",
     "output_type": "stream",
     "text": [
      "Done detecting ball trajectory (10.987967252731323 s)\n",
      "Saving results\n",
      "Done detecting ball trajectory (0.002038717269897461 s)\n",
      "Total time: 43.487523794174194 s\n",
      "Processing segment: V007_0037\n",
      "Reading video\n",
      "Done reading 264 video frames (0.38170695304870605 s)\n",
      "Loading models\n",
      "Done loading models (1.117302417755127 s)\n",
      "Detecting court\n"
     ]
    },
    {
     "name": "stderr",
     "output_type": "stream",
     "text": [
      "100%|████████████████████████████████████████████████████████████████████████████████| 264/264 [00:30<00:00,  8.57it/s]\n"
     ]
    },
    {
     "name": "stdout",
     "output_type": "stream",
     "text": [
      "Done detecting court (30.81301212310791 s)\n",
      "Detecting people\n"
     ]
    },
    {
     "name": "stderr",
     "output_type": "stream",
     "text": [
      "100%|████████████████████████████████████████████████████████████████████████████████| 216/216 [00:30<00:00,  7.17it/s]\n"
     ]
    },
    {
     "name": "stdout",
     "output_type": "stream",
     "text": [
      "Done detecting people (30.126410484313965 s)\n",
      "Detecting ball trajectory\n"
     ]
    },
    {
     "name": "stderr",
     "output_type": "stream",
     "text": [
      "100%|████████████████████████████████████████████████████████████████████████████████| 214/214 [00:19<00:00, 10.97it/s]\n"
     ]
    },
    {
     "name": "stdout",
     "output_type": "stream",
     "text": [
      "Done detecting ball trajectory (19.518568754196167 s)\n",
      "Saving results\n",
      "Done detecting ball trajectory (0.0030078887939453125 s)\n",
      "Total time: 81.96000862121582 s\n",
      "Processing segment: V007_0038\n",
      "Reading video\n",
      "Done reading 123 video frames (0.19280457496643066 s)\n",
      "Loading models\n",
      "Done loading models (0.9271295070648193 s)\n",
      "Detecting court\n"
     ]
    },
    {
     "name": "stderr",
     "output_type": "stream",
     "text": [
      "100%|████████████████████████████████████████████████████████████████████████████████| 123/123 [00:13<00:00,  9.46it/s]\n"
     ]
    },
    {
     "name": "stdout",
     "output_type": "stream",
     "text": [
      "Done detecting court (13.004065990447998 s)\n",
      "Detecting people\n"
     ]
    },
    {
     "name": "stderr",
     "output_type": "stream",
     "text": [
      "100%|██████████████████████████████████████████████████████████████████████████████████| 86/86 [00:11<00:00,  7.20it/s]\n"
     ]
    },
    {
     "name": "stdout",
     "output_type": "stream",
     "text": [
      "Done detecting people (11.945622444152832 s)\n",
      "Detecting ball trajectory\n"
     ]
    },
    {
     "name": "stderr",
     "output_type": "stream",
     "text": [
      "100%|██████████████████████████████████████████████████████████████████████████████████| 84/84 [00:07<00:00, 10.86it/s]\n"
     ]
    },
    {
     "name": "stdout",
     "output_type": "stream",
     "text": [
      "Done detecting ball trajectory (7.733998775482178 s)\n",
      "Saving results\n",
      "Done detecting ball trajectory (0.001682281494140625 s)\n",
      "Total time: 33.8053035736084 s\n",
      "Processing segment: V007_0039\n",
      "Reading video\n",
      "Done reading 219 video frames (0.2949259281158447 s)\n",
      "Loading models\n",
      "Done loading models (0.9533390998840332 s)\n",
      "Detecting court\n"
     ]
    },
    {
     "name": "stderr",
     "output_type": "stream",
     "text": [
      "100%|████████████████████████████████████████████████████████████████████████████████| 219/219 [00:26<00:00,  8.29it/s]\n"
     ]
    },
    {
     "name": "stdout",
     "output_type": "stream",
     "text": [
      "Done detecting court (26.418973445892334 s)\n",
      "Detecting people\n"
     ]
    },
    {
     "name": "stderr",
     "output_type": "stream",
     "text": [
      "100%|████████████████████████████████████████████████████████████████████████████████| 219/219 [00:30<00:00,  7.11it/s]\n"
     ]
    },
    {
     "name": "stdout",
     "output_type": "stream",
     "text": [
      "Done detecting people (30.817185163497925 s)\n",
      "Detecting ball trajectory\n"
     ]
    },
    {
     "name": "stderr",
     "output_type": "stream",
     "text": [
      "100%|████████████████████████████████████████████████████████████████████████████████| 217/217 [00:19<00:00, 10.89it/s]\n"
     ]
    },
    {
     "name": "stdout",
     "output_type": "stream",
     "text": [
      "Done detecting ball trajectory (19.932401180267334 s)\n",
      "Saving results\n",
      "Done detecting ball trajectory (0.0026679039001464844 s)\n",
      "Total time: 78.41949272155762 s\n",
      "Processing segment: V007_0040\n",
      "Reading video\n",
      "Done reading 95 video frames (0.13979601860046387 s)\n",
      "Loading models\n",
      "Done loading models (0.9552254676818848 s)\n",
      "Detecting court\n"
     ]
    },
    {
     "name": "stderr",
     "output_type": "stream",
     "text": [
      "100%|██████████████████████████████████████████████████████████████████████████████████| 95/95 [00:10<00:00,  9.49it/s]\n"
     ]
    },
    {
     "name": "stdout",
     "output_type": "stream",
     "text": [
      "Done detecting court (10.01706600189209 s)\n",
      "Detecting people\n"
     ]
    },
    {
     "name": "stderr",
     "output_type": "stream",
     "text": [
      "100%|██████████████████████████████████████████████████████████████████████████████████| 62/62 [00:08<00:00,  7.27it/s]\n"
     ]
    },
    {
     "name": "stdout",
     "output_type": "stream",
     "text": [
      "Done detecting people (8.531626224517822 s)\n",
      "Detecting ball trajectory\n"
     ]
    },
    {
     "name": "stderr",
     "output_type": "stream",
     "text": [
      "100%|██████████████████████████████████████████████████████████████████████████████████| 60/60 [00:05<00:00, 10.84it/s]\n"
     ]
    },
    {
     "name": "stdout",
     "output_type": "stream",
     "text": [
      "Done detecting ball trajectory (5.535231351852417 s)\n",
      "Saving results\n",
      "Done detecting ball trajectory (0.0013556480407714844 s)\n",
      "Total time: 25.18030071258545 s\n",
      "Processing segment: V007_0041\n",
      "Reading video\n",
      "Done reading 117 video frames (0.1788482666015625 s)\n",
      "Loading models\n",
      "Done loading models (0.928208589553833 s)\n",
      "Detecting court\n"
     ]
    },
    {
     "name": "stderr",
     "output_type": "stream",
     "text": [
      "100%|████████████████████████████████████████████████████████████████████████████████| 117/117 [00:12<00:00,  9.25it/s]\n"
     ]
    },
    {
     "name": "stdout",
     "output_type": "stream",
     "text": [
      "Done detecting court (12.649283170700073 s)\n",
      "Detecting people\n"
     ]
    },
    {
     "name": "stderr",
     "output_type": "stream",
     "text": [
      "100%|████████████████████████████████████████████████████████████████████████████████| 101/101 [00:14<00:00,  7.16it/s]\n"
     ]
    },
    {
     "name": "stdout",
     "output_type": "stream",
     "text": [
      "Done detecting people (14.11777377128601 s)\n",
      "Detecting ball trajectory\n"
     ]
    },
    {
     "name": "stderr",
     "output_type": "stream",
     "text": [
      "100%|██████████████████████████████████████████████████████████████████████████████████| 99/99 [00:09<00:00, 10.83it/s]\n"
     ]
    },
    {
     "name": "stdout",
     "output_type": "stream",
     "text": [
      "Done detecting ball trajectory (9.144880771636963 s)\n",
      "Saving results\n",
      "Done detecting ball trajectory (0.0015048980712890625 s)\n",
      "Total time: 37.02049946784973 s\n",
      "Processing segment: V007_0042\n",
      "Reading video\n",
      "Done reading 160 video frames (0.23706865310668945 s)\n",
      "Loading models\n",
      "Done loading models (0.9298906326293945 s)\n",
      "Detecting court\n"
     ]
    },
    {
     "name": "stderr",
     "output_type": "stream",
     "text": [
      "100%|████████████████████████████████████████████████████████████████████████████████| 160/160 [00:18<00:00,  8.79it/s]\n"
     ]
    },
    {
     "name": "stdout",
     "output_type": "stream",
     "text": [
      "Done detecting court (18.211715698242188 s)\n",
      "Detecting people\n"
     ]
    },
    {
     "name": "stderr",
     "output_type": "stream",
     "text": [
      "100%|████████████████████████████████████████████████████████████████████████████████| 136/136 [00:19<00:00,  7.15it/s]\n"
     ]
    },
    {
     "name": "stdout",
     "output_type": "stream",
     "text": [
      "Done detecting people (19.03166675567627 s)\n",
      "Detecting ball trajectory\n"
     ]
    },
    {
     "name": "stderr",
     "output_type": "stream",
     "text": [
      "100%|████████████████████████████████████████████████████████████████████████████████| 134/134 [00:12<00:00, 10.89it/s]\n"
     ]
    },
    {
     "name": "stdout",
     "output_type": "stream",
     "text": [
      "Done detecting ball trajectory (12.307875871658325 s)\n",
      "Saving results\n",
      "Done detecting ball trajectory (0.002855062484741211 s)\n",
      "Total time: 50.72107267379761 s\n",
      "Processing segment: V007_0043\n",
      "Reading video\n",
      "Done reading 131 video frames (0.19151043891906738 s)\n",
      "Loading models\n",
      "Done loading models (0.9289610385894775 s)\n",
      "Detecting court\n"
     ]
    },
    {
     "name": "stderr",
     "output_type": "stream",
     "text": [
      "100%|████████████████████████████████████████████████████████████████████████████████| 131/131 [00:14<00:00,  8.80it/s]\n"
     ]
    },
    {
     "name": "stdout",
     "output_type": "stream",
     "text": [
      "Done detecting court (14.891760110855103 s)\n",
      "Detecting people\n"
     ]
    },
    {
     "name": "stderr",
     "output_type": "stream",
     "text": [
      "100%|████████████████████████████████████████████████████████████████████████████████| 131/131 [00:18<00:00,  7.25it/s]\n"
     ]
    },
    {
     "name": "stdout",
     "output_type": "stream",
     "text": [
      "Done detecting people (18.080004453659058 s)\n",
      "Detecting ball trajectory\n"
     ]
    },
    {
     "name": "stderr",
     "output_type": "stream",
     "text": [
      "100%|████████████████████████████████████████████████████████████████████████████████| 129/129 [00:11<00:00, 10.84it/s]\n"
     ]
    },
    {
     "name": "stdout",
     "output_type": "stream",
     "text": [
      "Done detecting ball trajectory (11.901552677154541 s)\n",
      "Saving results\n",
      "Done detecting ball trajectory (0.0018262863159179688 s)\n",
      "Total time: 45.995615005493164 s\n",
      "Processing segment: V007_0044\n",
      "Reading video\n",
      "Done reading 368 video frames (0.49437689781188965 s)\n",
      "Loading models\n",
      "Done loading models (0.9250295162200928 s)\n",
      "Detecting court\n"
     ]
    },
    {
     "name": "stderr",
     "output_type": "stream",
     "text": [
      "100%|████████████████████████████████████████████████████████████████████████████████| 368/368 [00:44<00:00,  8.32it/s]\n"
     ]
    },
    {
     "name": "stdout",
     "output_type": "stream",
     "text": [
      "Done detecting court (44.232484579086304 s)\n",
      "Detecting people\n"
     ]
    },
    {
     "name": "stderr",
     "output_type": "stream",
     "text": [
      "100%|████████████████████████████████████████████████████████████████████████████████| 368/368 [00:51<00:00,  7.16it/s]\n"
     ]
    },
    {
     "name": "stdout",
     "output_type": "stream",
     "text": [
      "Done detecting people (51.37054777145386 s)\n",
      "Detecting ball trajectory\n"
     ]
    },
    {
     "name": "stderr",
     "output_type": "stream",
     "text": [
      "100%|████████████████████████████████████████████████████████████████████████████████| 366/366 [00:33<00:00, 10.90it/s]\n"
     ]
    },
    {
     "name": "stdout",
     "output_type": "stream",
     "text": [
      "Done detecting ball trajectory (33.56623888015747 s)\n",
      "Saving results\n",
      "Done detecting ball trajectory (0.003858804702758789 s)\n",
      "Total time: 130.59253644943237 s\n",
      "Processing segment: V007_0045\n",
      "Reading video\n",
      "Done reading 267 video frames (0.36574888229370117 s)\n",
      "Loading models\n",
      "Done loading models (0.9640135765075684 s)\n",
      "Detecting court\n"
     ]
    },
    {
     "name": "stderr",
     "output_type": "stream",
     "text": [
      "100%|████████████████████████████████████████████████████████████████████████████████| 267/267 [00:33<00:00,  8.04it/s]\n"
     ]
    },
    {
     "name": "stdout",
     "output_type": "stream",
     "text": [
      "Done detecting court (33.1989471912384 s)\n",
      "Detecting people\n"
     ]
    },
    {
     "name": "stderr",
     "output_type": "stream",
     "text": [
      "100%|████████████████████████████████████████████████████████████████████████████████| 267/267 [00:37<00:00,  7.12it/s]\n"
     ]
    },
    {
     "name": "stdout",
     "output_type": "stream",
     "text": [
      "Done detecting people (37.48656868934631 s)\n",
      "Detecting ball trajectory\n"
     ]
    },
    {
     "name": "stderr",
     "output_type": "stream",
     "text": [
      "100%|████████████████████████████████████████████████████████████████████████████████| 265/265 [00:24<00:00, 10.88it/s]\n"
     ]
    },
    {
     "name": "stdout",
     "output_type": "stream",
     "text": [
      "Done detecting ball trajectory (24.368820905685425 s)\n",
      "Saving results\n",
      "Done detecting ball trajectory (0.0036118030548095703 s)\n",
      "Total time: 96.38771104812622 s\n",
      "Processing segment: V007_0046\n",
      "Reading video\n",
      "Done reading 238 video frames (0.34788060188293457 s)\n",
      "Loading models\n",
      "Done loading models (0.9459528923034668 s)\n",
      "Detecting court\n"
     ]
    },
    {
     "name": "stderr",
     "output_type": "stream",
     "text": [
      "100%|████████████████████████████████████████████████████████████████████████████████| 238/238 [00:27<00:00,  8.67it/s]\n"
     ]
    },
    {
     "name": "stdout",
     "output_type": "stream",
     "text": [
      "Done detecting court (27.456019401550293 s)\n",
      "Detecting people\n"
     ]
    },
    {
     "name": "stderr",
     "output_type": "stream",
     "text": [
      "100%|████████████████████████████████████████████████████████████████████████████████| 192/192 [00:26<00:00,  7.12it/s]\n"
     ]
    },
    {
     "name": "stdout",
     "output_type": "stream",
     "text": [
      "Done detecting people (26.9681499004364 s)\n",
      "Detecting ball trajectory\n"
     ]
    },
    {
     "name": "stderr",
     "output_type": "stream",
     "text": [
      "100%|████████████████████████████████████████████████████████████████████████████████| 190/190 [00:17<00:00, 10.75it/s]\n"
     ]
    },
    {
     "name": "stdout",
     "output_type": "stream",
     "text": [
      "Done detecting ball trajectory (17.675562858581543 s)\n",
      "Saving results\n",
      "Done detecting ball trajectory (0.0025222301483154297 s)\n",
      "Total time: 73.39608788490295 s\n",
      "Processing segment: V007_0047\n",
      "Reading video\n",
      "Done reading 85 video frames (0.13076448440551758 s)\n",
      "Loading models\n",
      "Done loading models (0.9388594627380371 s)\n",
      "Detecting court\n"
     ]
    },
    {
     "name": "stderr",
     "output_type": "stream",
     "text": [
      "100%|██████████████████████████████████████████████████████████████████████████████████| 85/85 [00:07<00:00, 10.80it/s]\n"
     ]
    },
    {
     "name": "stdout",
     "output_type": "stream",
     "text": [
      "Done detecting court (7.870941638946533 s)\n",
      "Detecting people\n"
     ]
    },
    {
     "name": "stderr",
     "output_type": "stream",
     "text": [
      "100%|██████████████████████████████████████████████████████████████████████████████████| 21/21 [00:02<00:00,  7.18it/s]\n"
     ]
    },
    {
     "name": "stdout",
     "output_type": "stream",
     "text": [
      "Done detecting people (2.928524971008301 s)\n",
      "Detecting ball trajectory\n"
     ]
    },
    {
     "name": "stderr",
     "output_type": "stream",
     "text": [
      "100%|██████████████████████████████████████████████████████████████████████████████████| 19/19 [00:01<00:00, 11.00it/s]\n"
     ]
    },
    {
     "name": "stdout",
     "output_type": "stream",
     "text": [
      "Done detecting ball trajectory (1.7303762435913086 s)\n",
      "Saving results\n",
      "Done detecting ball trajectory (0.0020666122436523438 s)\n",
      "Total time: 13.60153341293335 s\n",
      "Processing segment: V007_0048\n",
      "Reading video\n",
      "Done reading 126 video frames (0.17538976669311523 s)\n",
      "Loading models\n",
      "Done loading models (0.9363415241241455 s)\n",
      "Detecting court\n"
     ]
    },
    {
     "name": "stderr",
     "output_type": "stream",
     "text": [
      "100%|████████████████████████████████████████████████████████████████████████████████| 126/126 [00:14<00:00,  8.58it/s]\n"
     ]
    },
    {
     "name": "stdout",
     "output_type": "stream",
     "text": [
      "Done detecting court (14.695420980453491 s)\n",
      "Detecting people\n"
     ]
    },
    {
     "name": "stderr",
     "output_type": "stream",
     "text": [
      "100%|████████████████████████████████████████████████████████████████████████████████| 116/116 [00:15<00:00,  7.27it/s]\n"
     ]
    },
    {
     "name": "stdout",
     "output_type": "stream",
     "text": [
      "Done detecting people (15.967548131942749 s)\n",
      "Detecting ball trajectory\n"
     ]
    },
    {
     "name": "stderr",
     "output_type": "stream",
     "text": [
      "100%|████████████████████████████████████████████████████████████████████████████████| 114/114 [00:10<00:00, 10.80it/s]\n"
     ]
    },
    {
     "name": "stdout",
     "output_type": "stream",
     "text": [
      "Done detecting ball trajectory (10.555314779281616 s)\n",
      "Saving results\n",
      "Done detecting ball trajectory (0.0019233226776123047 s)\n",
      "Total time: 42.33193850517273 s\n",
      "Processing segment: V007_0049\n",
      "Reading video\n",
      "Done reading 376 video frames (0.4989626407623291 s)\n",
      "Loading models\n",
      "Done loading models (0.9332425594329834 s)\n",
      "Detecting court\n"
     ]
    },
    {
     "name": "stderr",
     "output_type": "stream",
     "text": [
      "100%|████████████████████████████████████████████████████████████████████████████████| 376/376 [00:46<00:00,  8.17it/s]\n"
     ]
    },
    {
     "name": "stdout",
     "output_type": "stream",
     "text": [
      "Done detecting court (46.01437997817993 s)\n",
      "Detecting people\n"
     ]
    },
    {
     "name": "stderr",
     "output_type": "stream",
     "text": [
      "100%|████████████████████████████████████████████████████████████████████████████████| 376/376 [00:52<00:00,  7.19it/s]\n"
     ]
    },
    {
     "name": "stdout",
     "output_type": "stream",
     "text": [
      "Done detecting people (52.333067655563354 s)\n",
      "Detecting ball trajectory\n"
     ]
    },
    {
     "name": "stderr",
     "output_type": "stream",
     "text": [
      "100%|████████████████████████████████████████████████████████████████████████████████| 374/374 [00:34<00:00, 10.84it/s]\n"
     ]
    },
    {
     "name": "stdout",
     "output_type": "stream",
     "text": [
      "Done detecting ball trajectory (34.52015566825867 s)\n",
      "Saving results\n",
      "Done detecting ball trajectory (0.004229545593261719 s)\n",
      "Total time: 134.30403804779053 s\n",
      "Processing segment: V007_0050\n",
      "Reading video\n",
      "Done reading 119 video frames (0.1698005199432373 s)\n",
      "Loading models\n",
      "Done loading models (0.9441816806793213 s)\n",
      "Detecting court\n"
     ]
    },
    {
     "name": "stderr",
     "output_type": "stream",
     "text": [
      "100%|████████████████████████████████████████████████████████████████████████████████| 119/119 [00:13<00:00,  8.98it/s]\n"
     ]
    },
    {
     "name": "stdout",
     "output_type": "stream",
     "text": [
      "Done detecting court (13.258333921432495 s)\n",
      "Detecting people\n"
     ]
    },
    {
     "name": "stderr",
     "output_type": "stream",
     "text": [
      "100%|██████████████████████████████████████████████████████████████████████████████████| 90/90 [00:12<00:00,  7.25it/s]\n"
     ]
    },
    {
     "name": "stdout",
     "output_type": "stream",
     "text": [
      "Done detecting people (12.423462629318237 s)\n",
      "Detecting ball trajectory\n"
     ]
    },
    {
     "name": "stderr",
     "output_type": "stream",
     "text": [
      "100%|██████████████████████████████████████████████████████████████████████████████████| 88/88 [00:08<00:00, 10.82it/s]\n"
     ]
    },
    {
     "name": "stdout",
     "output_type": "stream",
     "text": [
      "Done detecting ball trajectory (8.138569116592407 s)\n",
      "Saving results\n",
      "Done detecting ball trajectory (0.0025277137756347656 s)\n",
      "Total time: 34.93687558174133 s\n",
      "Processing segment: V007_0051\n",
      "Reading video\n",
      "Done reading 111 video frames (0.19497179985046387 s)\n",
      "Loading models\n",
      "Done loading models (0.9372212886810303 s)\n",
      "Detecting court\n"
     ]
    },
    {
     "name": "stderr",
     "output_type": "stream",
     "text": [
      "100%|████████████████████████████████████████████████████████████████████████████████| 111/111 [00:12<00:00,  8.83it/s]\n"
     ]
    },
    {
     "name": "stdout",
     "output_type": "stream",
     "text": [
      "Done detecting court (12.572999715805054 s)\n",
      "Detecting people\n"
     ]
    },
    {
     "name": "stderr",
     "output_type": "stream",
     "text": [
      "100%|██████████████████████████████████████████████████████████████████████████████████| 82/82 [00:11<00:00,  7.15it/s]\n"
     ]
    },
    {
     "name": "stdout",
     "output_type": "stream",
     "text": [
      "Done detecting people (11.47445797920227 s)\n",
      "Detecting ball trajectory\n"
     ]
    },
    {
     "name": "stderr",
     "output_type": "stream",
     "text": [
      "100%|██████████████████████████████████████████████████████████████████████████████████| 80/80 [00:07<00:00, 10.80it/s]\n"
     ]
    },
    {
     "name": "stdout",
     "output_type": "stream",
     "text": [
      "Done detecting ball trajectory (7.409503936767578 s)\n",
      "Saving results\n",
      "Done detecting ball trajectory (0.001512289047241211 s)\n",
      "Total time: 32.59066700935364 s\n",
      "Processing segment: V007_0052\n",
      "Reading video\n",
      "Done reading 144 video frames (0.2049422264099121 s)\n",
      "Loading models\n",
      "Done loading models (0.9382748603820801 s)\n",
      "Detecting court\n"
     ]
    },
    {
     "name": "stderr",
     "output_type": "stream",
     "text": [
      "100%|████████████████████████████████████████████████████████████████████████████████| 144/144 [00:16<00:00,  8.95it/s]\n"
     ]
    },
    {
     "name": "stdout",
     "output_type": "stream",
     "text": [
      "Done detecting court (16.101267099380493 s)\n",
      "Detecting people\n"
     ]
    },
    {
     "name": "stderr",
     "output_type": "stream",
     "text": [
      "100%|████████████████████████████████████████████████████████████████████████████████| 113/113 [00:15<00:00,  7.21it/s]\n"
     ]
    },
    {
     "name": "stdout",
     "output_type": "stream",
     "text": [
      "Done detecting people (15.680301904678345 s)\n",
      "Detecting ball trajectory\n"
     ]
    },
    {
     "name": "stderr",
     "output_type": "stream",
     "text": [
      "100%|████████████████████████████████████████████████████████████████████████████████| 111/111 [00:10<00:00, 10.83it/s]\n"
     ]
    },
    {
     "name": "stdout",
     "output_type": "stream",
     "text": [
      "Done detecting ball trajectory (10.24942398071289 s)\n",
      "Saving results\n",
      "Done detecting ball trajectory (0.002039194107055664 s)\n",
      "Total time: 43.176249265670776 s\n",
      "Processing segment: V007_0053\n",
      "Reading video\n",
      "Done reading 263 video frames (0.35628437995910645 s)\n",
      "Loading models\n",
      "Done loading models (0.930901050567627 s)\n",
      "Detecting court\n"
     ]
    },
    {
     "name": "stderr",
     "output_type": "stream",
     "text": [
      "100%|████████████████████████████████████████████████████████████████████████████████| 263/263 [00:32<00:00,  8.19it/s]\n"
     ]
    },
    {
     "name": "stdout",
     "output_type": "stream",
     "text": [
      "Done detecting court (32.12507510185242 s)\n",
      "Detecting people\n"
     ]
    },
    {
     "name": "stderr",
     "output_type": "stream",
     "text": [
      "100%|████████████████████████████████████████████████████████████████████████████████| 263/263 [00:36<00:00,  7.17it/s]\n"
     ]
    },
    {
     "name": "stdout",
     "output_type": "stream",
     "text": [
      "Done detecting people (36.68174147605896 s)\n",
      "Detecting ball trajectory\n"
     ]
    },
    {
     "name": "stderr",
     "output_type": "stream",
     "text": [
      "100%|████████████████████████████████████████████████████████████████████████████████| 261/261 [00:23<00:00, 10.89it/s]\n"
     ]
    },
    {
     "name": "stdout",
     "output_type": "stream",
     "text": [
      "Done detecting ball trajectory (23.96928334236145 s)\n",
      "Saving results\n",
      "Done detecting ball trajectory (0.002889394760131836 s)\n",
      "Total time: 94.06617474555969 s\n",
      "Processing segment: V007_0054\n",
      "Reading video\n",
      "Done reading 133 video frames (0.19623327255249023 s)\n",
      "Loading models\n",
      "Done loading models (0.9249680042266846 s)\n",
      "Detecting court\n"
     ]
    },
    {
     "name": "stderr",
     "output_type": "stream",
     "text": [
      "100%|████████████████████████████████████████████████████████████████████████████████| 133/133 [00:19<00:00,  6.76it/s]\n"
     ]
    },
    {
     "name": "stdout",
     "output_type": "stream",
     "text": [
      "Done detecting court (19.66703152656555 s)\n",
      "Detecting people\n"
     ]
    },
    {
     "name": "stderr",
     "output_type": "stream",
     "text": [
      "100%|████████████████████████████████████████████████████████████████████████████████| 133/133 [00:18<00:00,  7.21it/s]\n"
     ]
    },
    {
     "name": "stdout",
     "output_type": "stream",
     "text": [
      "Done detecting people (18.447431087493896 s)\n",
      "Detecting ball trajectory\n"
     ]
    },
    {
     "name": "stderr",
     "output_type": "stream",
     "text": [
      "100%|████████████████████████████████████████████████████████████████████████████████| 131/131 [00:12<00:00, 10.75it/s]\n"
     ]
    },
    {
     "name": "stdout",
     "output_type": "stream",
     "text": [
      "Done detecting ball trajectory (12.19275426864624 s)\n",
      "Saving results\n",
      "Done detecting ball trajectory (0.0021820068359375 s)\n",
      "Total time: 51.4306001663208 s\n",
      "Processing segment: V007_0055\n",
      "Reading video\n",
      "Done reading 155 video frames (0.22193098068237305 s)\n",
      "Loading models\n",
      "Done loading models (0.9407093524932861 s)\n",
      "Detecting court\n"
     ]
    },
    {
     "name": "stderr",
     "output_type": "stream",
     "text": [
      "100%|████████████████████████████████████████████████████████████████████████████████| 155/155 [00:17<00:00,  8.72it/s]\n"
     ]
    },
    {
     "name": "stdout",
     "output_type": "stream",
     "text": [
      "Done detecting court (17.777241468429565 s)\n",
      "Detecting people\n"
     ]
    },
    {
     "name": "stderr",
     "output_type": "stream",
     "text": [
      "100%|████████████████████████████████████████████████████████████████████████████████| 142/142 [00:19<00:00,  7.22it/s]\n"
     ]
    },
    {
     "name": "stdout",
     "output_type": "stream",
     "text": [
      "Done detecting people (19.666473150253296 s)\n",
      "Detecting ball trajectory\n"
     ]
    },
    {
     "name": "stderr",
     "output_type": "stream",
     "text": [
      "100%|████████████████████████████████████████████████████████████████████████████████| 140/140 [00:12<00:00, 10.84it/s]\n"
     ]
    },
    {
     "name": "stdout",
     "output_type": "stream",
     "text": [
      "Done detecting ball trajectory (12.91447401046753 s)\n",
      "Saving results\n",
      "Done detecting ball trajectory (0.0022411346435546875 s)\n",
      "Total time: 51.523070096969604 s\n",
      "Processing segment: V007_0056\n",
      "Reading video\n",
      "Done reading 85 video frames (0.13612937927246094 s)\n",
      "Loading models\n",
      "Done loading models (0.9261689186096191 s)\n",
      "Detecting court\n"
     ]
    },
    {
     "name": "stderr",
     "output_type": "stream",
     "text": [
      "100%|██████████████████████████████████████████████████████████████████████████████████| 85/85 [00:10<00:00,  7.98it/s]\n"
     ]
    },
    {
     "name": "stdout",
     "output_type": "stream",
     "text": [
      "Done detecting court (10.660759687423706 s)\n",
      "Detecting people\n"
     ]
    },
    {
     "name": "stderr",
     "output_type": "stream",
     "text": [
      "100%|██████████████████████████████████████████████████████████████████████████████████| 85/85 [00:11<00:00,  7.16it/s]\n"
     ]
    },
    {
     "name": "stdout",
     "output_type": "stream",
     "text": [
      "Done detecting people (11.865997076034546 s)\n",
      "Detecting ball trajectory\n"
     ]
    },
    {
     "name": "stderr",
     "output_type": "stream",
     "text": [
      "100%|██████████████████████████████████████████████████████████████████████████████████| 83/83 [00:07<00:00, 10.86it/s]\n"
     ]
    },
    {
     "name": "stdout",
     "output_type": "stream",
     "text": [
      "Done detecting ball trajectory (7.645578384399414 s)\n",
      "Saving results\n",
      "Done detecting ball trajectory (0.0014579296112060547 s)\n",
      "Total time: 31.236091375350952 s\n",
      "Processing segment: V007_0057\n",
      "Reading video\n",
      "Done reading 196 video frames (0.26987671852111816 s)\n",
      "Loading models\n",
      "Done loading models (0.9403512477874756 s)\n",
      "Detecting court\n"
     ]
    },
    {
     "name": "stderr",
     "output_type": "stream",
     "text": [
      "100%|████████████████████████████████████████████████████████████████████████████████| 196/196 [00:23<00:00,  8.34it/s]\n"
     ]
    },
    {
     "name": "stdout",
     "output_type": "stream",
     "text": [
      "Done detecting court (23.513267278671265 s)\n",
      "Detecting people\n"
     ]
    },
    {
     "name": "stderr",
     "output_type": "stream",
     "text": [
      "100%|████████████████████████████████████████████████████████████████████████████████| 196/196 [00:27<00:00,  7.18it/s]\n"
     ]
    },
    {
     "name": "stdout",
     "output_type": "stream",
     "text": [
      "Done detecting people (27.286542177200317 s)\n",
      "Detecting ball trajectory\n"
     ]
    },
    {
     "name": "stderr",
     "output_type": "stream",
     "text": [
      "100%|████████████████████████████████████████████████████████████████████████████████| 194/194 [00:17<00:00, 10.81it/s]\n"
     ]
    },
    {
     "name": "stdout",
     "output_type": "stream",
     "text": [
      "Done detecting ball trajectory (17.948546648025513 s)\n",
      "Saving results\n",
      "Done detecting ball trajectory (0.0022864341735839844 s)\n",
      "Total time: 69.96087050437927 s\n",
      "Processing segment: V007_0058\n",
      "Reading video\n",
      "Done reading 110 video frames (0.15729641914367676 s)\n",
      "Loading models\n",
      "Done loading models (0.9313158988952637 s)\n",
      "Detecting court\n"
     ]
    },
    {
     "name": "stderr",
     "output_type": "stream",
     "text": [
      "100%|████████████████████████████████████████████████████████████████████████████████| 110/110 [00:12<00:00,  9.03it/s]\n"
     ]
    },
    {
     "name": "stdout",
     "output_type": "stream",
     "text": [
      "Done detecting court (12.189449548721313 s)\n",
      "Detecting people\n"
     ]
    },
    {
     "name": "stderr",
     "output_type": "stream",
     "text": [
      "100%|██████████████████████████████████████████████████████████████████████████████████| 80/80 [00:11<00:00,  7.21it/s]\n"
     ]
    },
    {
     "name": "stdout",
     "output_type": "stream",
     "text": [
      "Done detecting people (11.09239149093628 s)\n",
      "Detecting ball trajectory\n"
     ]
    },
    {
     "name": "stderr",
     "output_type": "stream",
     "text": [
      "100%|██████████████████████████████████████████████████████████████████████████████████| 78/78 [00:07<00:00, 10.87it/s]\n"
     ]
    },
    {
     "name": "stdout",
     "output_type": "stream",
     "text": [
      "Done detecting ball trajectory (7.181450128555298 s)\n",
      "Saving results\n",
      "Done detecting ball trajectory (0.0014615058898925781 s)\n",
      "Total time: 31.553364992141724 s\n",
      "Processing segment: V007_0059\n",
      "Reading video\n",
      "Done reading 138 video frames (0.19727683067321777 s)\n",
      "Loading models\n",
      "Done loading models (0.9295856952667236 s)\n",
      "Detecting court\n"
     ]
    },
    {
     "name": "stderr",
     "output_type": "stream",
     "text": [
      "100%|████████████████████████████████████████████████████████████████████████████████| 138/138 [00:17<00:00,  7.94it/s]\n"
     ]
    },
    {
     "name": "stdout",
     "output_type": "stream",
     "text": [
      "Done detecting court (17.3813579082489 s)\n",
      "Detecting people\n"
     ]
    },
    {
     "name": "stderr",
     "output_type": "stream",
     "text": [
      "100%|████████████████████████████████████████████████████████████████████████████████| 138/138 [00:19<00:00,  7.03it/s]\n"
     ]
    },
    {
     "name": "stdout",
     "output_type": "stream",
     "text": [
      "Done detecting people (19.632702589035034 s)\n",
      "Detecting ball trajectory\n"
     ]
    },
    {
     "name": "stderr",
     "output_type": "stream",
     "text": [
      "100%|████████████████████████████████████████████████████████████████████████████████| 136/136 [00:12<00:00, 10.79it/s]\n"
     ]
    },
    {
     "name": "stdout",
     "output_type": "stream",
     "text": [
      "Done detecting ball trajectory (12.608829259872437 s)\n",
      "Saving results\n",
      "Done detecting ball trajectory (0.0020852088928222656 s)\n",
      "Total time: 50.751837491989136 s\n",
      "Processing segment: V007_0060\n",
      "Reading video\n",
      "Done reading 223 video frames (0.3014240264892578 s)\n",
      "Loading models\n",
      "Done loading models (0.9805171489715576 s)\n",
      "Detecting court\n"
     ]
    },
    {
     "name": "stderr",
     "output_type": "stream",
     "text": [
      "100%|████████████████████████████████████████████████████████████████████████████████| 223/223 [00:27<00:00,  8.02it/s]\n"
     ]
    },
    {
     "name": "stdout",
     "output_type": "stream",
     "text": [
      "Done detecting court (27.810746669769287 s)\n",
      "Detecting people\n"
     ]
    },
    {
     "name": "stderr",
     "output_type": "stream",
     "text": [
      "100%|████████████████████████████████████████████████████████████████████████████████| 223/223 [00:31<00:00,  7.17it/s]\n"
     ]
    },
    {
     "name": "stdout",
     "output_type": "stream",
     "text": [
      "Done detecting people (31.110514402389526 s)\n",
      "Detecting ball trajectory\n"
     ]
    },
    {
     "name": "stderr",
     "output_type": "stream",
     "text": [
      "100%|████████████████████████████████████████████████████████████████████████████████| 221/221 [00:20<00:00, 10.86it/s]\n"
     ]
    },
    {
     "name": "stdout",
     "output_type": "stream",
     "text": [
      "Done detecting ball trajectory (20.354373931884766 s)\n",
      "Saving results\n",
      "Done detecting ball trajectory (0.0025186538696289062 s)\n",
      "Total time: 80.56009483337402 s\n",
      "Processing segment: V007_0061\n",
      "Reading video\n",
      "Done reading 164 video frames (0.2530558109283447 s)\n",
      "Loading models\n",
      "Done loading models (0.9518969058990479 s)\n",
      "Detecting court\n"
     ]
    },
    {
     "name": "stderr",
     "output_type": "stream",
     "text": [
      "100%|████████████████████████████████████████████████████████████████████████████████| 164/164 [00:17<00:00,  9.15it/s]\n"
     ]
    },
    {
     "name": "stdout",
     "output_type": "stream",
     "text": [
      "Done detecting court (17.92585301399231 s)\n",
      "Detecting people\n"
     ]
    },
    {
     "name": "stderr",
     "output_type": "stream",
     "text": [
      "100%|████████████████████████████████████████████████████████████████████████████████| 120/120 [00:16<00:00,  7.17it/s]\n"
     ]
    },
    {
     "name": "stdout",
     "output_type": "stream",
     "text": [
      "Done detecting people (16.745933771133423 s)\n",
      "Detecting ball trajectory\n"
     ]
    },
    {
     "name": "stderr",
     "output_type": "stream",
     "text": [
      "100%|████████████████████████████████████████████████████████████████████████████████| 118/118 [00:10<00:00, 10.83it/s]\n"
     ]
    },
    {
     "name": "stdout",
     "output_type": "stream",
     "text": [
      "Done detecting ball trajectory (10.90033745765686 s)\n",
      "Saving results\n",
      "Done detecting ball trajectory (0.0017192363739013672 s)\n",
      "Total time: 46.77879619598389 s\n",
      "Processing segment: V007_0062\n",
      "Reading video\n",
      "Done reading 194 video frames (0.2673060894012451 s)\n",
      "Loading models\n",
      "Done loading models (0.9233014583587646 s)\n",
      "Detecting court\n"
     ]
    },
    {
     "name": "stderr",
     "output_type": "stream",
     "text": [
      "100%|████████████████████████████████████████████████████████████████████████████████| 194/194 [00:23<00:00,  8.35it/s]\n"
     ]
    },
    {
     "name": "stdout",
     "output_type": "stream",
     "text": [
      "Done detecting court (23.243830919265747 s)\n",
      "Detecting people\n"
     ]
    },
    {
     "name": "stderr",
     "output_type": "stream",
     "text": [
      "100%|████████████████████████████████████████████████████████████████████████████████| 174/174 [00:24<00:00,  7.12it/s]\n"
     ]
    },
    {
     "name": "stdout",
     "output_type": "stream",
     "text": [
      "Done detecting people (24.45254111289978 s)\n",
      "Detecting ball trajectory\n"
     ]
    },
    {
     "name": "stderr",
     "output_type": "stream",
     "text": [
      "100%|████████████████████████████████████████████████████████████████████████████████| 172/172 [00:15<00:00, 10.79it/s]\n"
     ]
    },
    {
     "name": "stdout",
     "output_type": "stream",
     "text": [
      "Done detecting ball trajectory (15.945841073989868 s)\n",
      "Saving results\n",
      "Done detecting ball trajectory (0.002522706985473633 s)\n",
      "Total time: 64.83534336090088 s\n",
      "Processing segment: V007_0063\n",
      "Reading video\n",
      "Done reading 99 video frames (0.14537286758422852 s)\n",
      "Loading models\n",
      "Done loading models (0.9576582908630371 s)\n",
      "Detecting court\n"
     ]
    },
    {
     "name": "stderr",
     "output_type": "stream",
     "text": [
      "100%|██████████████████████████████████████████████████████████████████████████████████| 99/99 [00:11<00:00,  8.69it/s]\n"
     ]
    },
    {
     "name": "stdout",
     "output_type": "stream",
     "text": [
      "Done detecting court (11.39520788192749 s)\n",
      "Detecting people\n"
     ]
    },
    {
     "name": "stderr",
     "output_type": "stream",
     "text": [
      "100%|██████████████████████████████████████████████████████████████████████████████████| 77/77 [00:10<00:00,  7.25it/s]\n"
     ]
    },
    {
     "name": "stdout",
     "output_type": "stream",
     "text": [
      "Done detecting people (10.630242586135864 s)\n",
      "Detecting ball trajectory\n"
     ]
    },
    {
     "name": "stderr",
     "output_type": "stream",
     "text": [
      "100%|██████████████████████████████████████████████████████████████████████████████████| 75/75 [00:06<00:00, 10.87it/s]\n"
     ]
    },
    {
     "name": "stdout",
     "output_type": "stream",
     "text": [
      "Done detecting ball trajectory (6.9023520946502686 s)\n",
      "Saving results\n",
      "Done detecting ball trajectory (0.001562356948852539 s)\n",
      "Total time: 30.03239607810974 s\n",
      "Processing segment: V007_0064\n",
      "Reading video\n",
      "Done reading 137 video frames (0.1873457431793213 s)\n",
      "Loading models\n",
      "Done loading models (0.9256951808929443 s)\n",
      "Detecting court\n"
     ]
    },
    {
     "name": "stderr",
     "output_type": "stream",
     "text": [
      "100%|████████████████████████████████████████████████████████████████████████████████| 137/137 [00:14<00:00,  9.77it/s]\n"
     ]
    },
    {
     "name": "stdout",
     "output_type": "stream",
     "text": [
      "Done detecting court (14.020843267440796 s)\n",
      "Detecting people\n"
     ]
    },
    {
     "name": "stderr",
     "output_type": "stream",
     "text": [
      "100%|██████████████████████████████████████████████████████████████████████████████████| 67/67 [00:09<00:00,  7.17it/s]\n"
     ]
    },
    {
     "name": "stdout",
     "output_type": "stream",
     "text": [
      "Done detecting people (9.350124597549438 s)\n",
      "Detecting ball trajectory\n"
     ]
    },
    {
     "name": "stderr",
     "output_type": "stream",
     "text": [
      "100%|██████████████████████████████████████████████████████████████████████████████████| 65/65 [00:06<00:00, 10.81it/s]\n"
     ]
    },
    {
     "name": "stdout",
     "output_type": "stream",
     "text": [
      "Done detecting ball trajectory (6.017585039138794 s)\n",
      "Saving results\n",
      "Done detecting ball trajectory (0.0013108253479003906 s)\n",
      "Total time: 30.502904653549194 s\n",
      "Processing segment: V007_0065\n",
      "Reading video\n",
      "Done reading 272 video frames (0.38321661949157715 s)\n",
      "Loading models\n",
      "Done loading models (0.9624099731445312 s)\n",
      "Detecting court\n"
     ]
    },
    {
     "name": "stderr",
     "output_type": "stream",
     "text": [
      "100%|████████████████████████████████████████████████████████████████████████████████| 272/272 [00:42<00:00,  6.36it/s]\n"
     ]
    },
    {
     "name": "stdout",
     "output_type": "stream",
     "text": [
      "Done detecting court (42.779152393341064 s)\n",
      "Detecting people\n"
     ]
    },
    {
     "name": "stderr",
     "output_type": "stream",
     "text": [
      "100%|████████████████████████████████████████████████████████████████████████████████| 272/272 [00:38<00:00,  7.14it/s]\n"
     ]
    },
    {
     "name": "stdout",
     "output_type": "stream",
     "text": [
      "Done detecting people (38.09555006027222 s)\n",
      "Detecting ball trajectory\n"
     ]
    },
    {
     "name": "stderr",
     "output_type": "stream",
     "text": [
      "100%|████████████████████████████████████████████████████████████████████████████████| 270/270 [00:24<00:00, 10.97it/s]\n"
     ]
    },
    {
     "name": "stdout",
     "output_type": "stream",
     "text": [
      "Done detecting ball trajectory (24.616475105285645 s)\n",
      "Saving results\n",
      "Done detecting ball trajectory (0.0032241344451904297 s)\n",
      "Total time: 106.84002828598022 s\n",
      "Processing segment: V007_0066\n",
      "Reading video\n",
      "Done reading 135 video frames (0.19289040565490723 s)\n",
      "Loading models\n",
      "Done loading models (0.9210915565490723 s)\n",
      "Detecting court\n"
     ]
    },
    {
     "name": "stderr",
     "output_type": "stream",
     "text": [
      "100%|████████████████████████████████████████████████████████████████████████████████| 135/135 [00:16<00:00,  7.99it/s]\n"
     ]
    },
    {
     "name": "stdout",
     "output_type": "stream",
     "text": [
      "Done detecting court (16.89259934425354 s)\n",
      "Detecting people\n"
     ]
    },
    {
     "name": "stderr",
     "output_type": "stream",
     "text": [
      "100%|████████████████████████████████████████████████████████████████████████████████| 135/135 [00:18<00:00,  7.20it/s]\n"
     ]
    },
    {
     "name": "stdout",
     "output_type": "stream",
     "text": [
      "Done detecting people (18.757135152816772 s)\n",
      "Detecting ball trajectory\n"
     ]
    },
    {
     "name": "stderr",
     "output_type": "stream",
     "text": [
      "100%|████████████████████████████████████████████████████████████████████████████████| 133/133 [00:12<00:00, 10.82it/s]\n"
     ]
    },
    {
     "name": "stdout",
     "output_type": "stream",
     "text": [
      "Done detecting ball trajectory (12.296872854232788 s)\n",
      "Saving results\n",
      "Done detecting ball trajectory (0.0021152496337890625 s)\n",
      "Total time: 49.06270456314087 s\n",
      "Processing segment: V007_0067\n",
      "Reading video\n",
      "Done reading 342 video frames (0.4640812873840332 s)\n",
      "Loading models\n",
      "Done loading models (0.9777133464813232 s)\n",
      "Detecting court\n"
     ]
    },
    {
     "name": "stderr",
     "output_type": "stream",
     "text": [
      "100%|████████████████████████████████████████████████████████████████████████████████| 342/342 [00:53<00:00,  6.35it/s]\n"
     ]
    },
    {
     "name": "stdout",
     "output_type": "stream",
     "text": [
      "Done detecting court (53.86515736579895 s)\n",
      "Detecting people\n"
     ]
    },
    {
     "name": "stderr",
     "output_type": "stream",
     "text": [
      "100%|████████████████████████████████████████████████████████████████████████████████| 342/342 [00:48<00:00,  7.12it/s]\n"
     ]
    },
    {
     "name": "stdout",
     "output_type": "stream",
     "text": [
      "Done detecting people (48.02339196205139 s)\n",
      "Detecting ball trajectory\n"
     ]
    },
    {
     "name": "stderr",
     "output_type": "stream",
     "text": [
      "100%|████████████████████████████████████████████████████████████████████████████████| 340/340 [00:31<00:00, 10.88it/s]\n"
     ]
    },
    {
     "name": "stdout",
     "output_type": "stream",
     "text": [
      "Done detecting ball trajectory (31.241187572479248 s)\n",
      "Saving results\n",
      "Done detecting ball trajectory (0.003782987594604492 s)\n",
      "Total time: 134.57531452178955 s\n",
      "Processing segment: V007_0068\n",
      "Reading video\n",
      "Done reading 171 video frames (0.2340404987335205 s)\n",
      "Loading models\n",
      "Done loading models (0.9298906326293945 s)\n",
      "Detecting court\n"
     ]
    },
    {
     "name": "stderr",
     "output_type": "stream",
     "text": [
      "100%|████████████████████████████████████████████████████████████████████████████████| 171/171 [00:21<00:00,  7.84it/s]\n"
     ]
    },
    {
     "name": "stdout",
     "output_type": "stream",
     "text": [
      "Done detecting court (21.81481099128723 s)\n",
      "Detecting people\n"
     ]
    },
    {
     "name": "stderr",
     "output_type": "stream",
     "text": [
      "100%|████████████████████████████████████████████████████████████████████████████████| 171/171 [00:23<00:00,  7.15it/s]\n"
     ]
    },
    {
     "name": "stdout",
     "output_type": "stream",
     "text": [
      "Done detecting people (23.922709226608276 s)\n",
      "Detecting ball trajectory\n"
     ]
    },
    {
     "name": "stderr",
     "output_type": "stream",
     "text": [
      "100%|████████████████████████████████████████████████████████████████████████████████| 169/169 [00:15<00:00, 10.81it/s]\n"
     ]
    },
    {
     "name": "stdout",
     "output_type": "stream",
     "text": [
      "Done detecting ball trajectory (15.635955333709717 s)\n",
      "Saving results\n",
      "Done detecting ball trajectory (0.002413034439086914 s)\n",
      "Total time: 62.53981971740723 s\n",
      "Processing segment: V007_0069\n",
      "Reading video\n",
      "Done reading 110 video frames (0.17327165603637695 s)\n",
      "Loading models\n",
      "Done loading models (0.9425883293151855 s)\n",
      "Detecting court\n"
     ]
    },
    {
     "name": "stderr",
     "output_type": "stream",
     "text": [
      "100%|████████████████████████████████████████████████████████████████████████████████| 110/110 [00:21<00:00,  5.12it/s]\n"
     ]
    },
    {
     "name": "stdout",
     "output_type": "stream",
     "text": [
      "Done detecting court (21.50225806236267 s)\n",
      "Detecting people\n"
     ]
    },
    {
     "name": "stderr",
     "output_type": "stream",
     "text": [
      "100%|████████████████████████████████████████████████████████████████████████████████| 110/110 [00:15<00:00,  7.13it/s]\n"
     ]
    },
    {
     "name": "stdout",
     "output_type": "stream",
     "text": [
      "Done detecting people (15.4284086227417 s)\n",
      "Detecting ball trajectory\n"
     ]
    },
    {
     "name": "stderr",
     "output_type": "stream",
     "text": [
      "100%|████████████████████████████████████████████████████████████████████████████████| 108/108 [00:10<00:00, 10.71it/s]\n"
     ]
    },
    {
     "name": "stdout",
     "output_type": "stream",
     "text": [
      "Done detecting ball trajectory (10.08316707611084 s)\n",
      "Saving results\n",
      "Done detecting ball trajectory (0.0015501976013183594 s)\n",
      "Total time: 48.13124394416809 s\n",
      "Processing segment: V007_0070\n",
      "Reading video\n",
      "Done reading 153 video frames (0.20931601524353027 s)\n",
      "Loading models\n",
      "Done loading models (0.9254441261291504 s)\n",
      "Detecting court\n"
     ]
    },
    {
     "name": "stderr",
     "output_type": "stream",
     "text": [
      "100%|████████████████████████████████████████████████████████████████████████████████| 153/153 [00:17<00:00,  8.67it/s]\n"
     ]
    },
    {
     "name": "stdout",
     "output_type": "stream",
     "text": [
      "Done detecting court (17.644593477249146 s)\n",
      "Detecting people\n"
     ]
    },
    {
     "name": "stderr",
     "output_type": "stream",
     "text": [
      "100%|████████████████████████████████████████████████████████████████████████████████| 127/127 [00:17<00:00,  7.22it/s]\n"
     ]
    },
    {
     "name": "stdout",
     "output_type": "stream",
     "text": [
      "Done detecting people (17.59356713294983 s)\n",
      "Detecting ball trajectory\n"
     ]
    },
    {
     "name": "stderr",
     "output_type": "stream",
     "text": [
      "100%|████████████████████████████████████████████████████████████████████████████████| 125/125 [00:11<00:00, 10.86it/s]\n"
     ]
    },
    {
     "name": "stdout",
     "output_type": "stream",
     "text": [
      "Done detecting ball trajectory (11.51635193824768 s)\n",
      "Saving results\n",
      "Done detecting ball trajectory (0.0021021366119384766 s)\n",
      "Total time: 47.891374826431274 s\n",
      "Processing segment: V007_0071\n",
      "Reading video\n",
      "Done reading 308 video frames (0.425311803817749 s)\n",
      "Loading models\n",
      "Done loading models (1.08585524559021 s)\n",
      "Detecting court\n"
     ]
    },
    {
     "name": "stderr",
     "output_type": "stream",
     "text": [
      "100%|████████████████████████████████████████████████████████████████████████████████| 308/308 [00:39<00:00,  7.71it/s]\n"
     ]
    },
    {
     "name": "stdout",
     "output_type": "stream",
     "text": [
      "Done detecting court (39.943283796310425 s)\n",
      "Detecting people\n"
     ]
    },
    {
     "name": "stderr",
     "output_type": "stream",
     "text": [
      "100%|████████████████████████████████████████████████████████████████████████████████| 308/308 [00:42<00:00,  7.17it/s]\n"
     ]
    },
    {
     "name": "stdout",
     "output_type": "stream",
     "text": [
      "Done detecting people (42.936477184295654 s)\n",
      "Detecting ball trajectory\n"
     ]
    },
    {
     "name": "stderr",
     "output_type": "stream",
     "text": [
      "100%|████████████████████████████████████████████████████████████████████████████████| 306/306 [00:28<00:00, 10.85it/s]\n"
     ]
    },
    {
     "name": "stdout",
     "output_type": "stream",
     "text": [
      "Done detecting ball trajectory (28.200270414352417 s)\n",
      "Saving results\n",
      "Done detecting ball trajectory (0.0035986900329589844 s)\n",
      "Total time: 112.59479713439941 s\n",
      "Processing segment: V007_0072\n",
      "Reading video\n",
      "Done reading 100 video frames (0.17319846153259277 s)\n",
      "Loading models\n",
      "Done loading models (0.9302523136138916 s)\n",
      "Detecting court\n"
     ]
    },
    {
     "name": "stderr",
     "output_type": "stream",
     "text": [
      "100%|████████████████████████████████████████████████████████████████████████████████| 100/100 [00:16<00:00,  6.18it/s]\n"
     ]
    },
    {
     "name": "stdout",
     "output_type": "stream",
     "text": [
      "Done detecting court (16.197129487991333 s)\n",
      "Detecting people\n"
     ]
    },
    {
     "name": "stderr",
     "output_type": "stream",
     "text": [
      "100%|████████████████████████████████████████████████████████████████████████████████| 100/100 [00:13<00:00,  7.21it/s]\n"
     ]
    },
    {
     "name": "stdout",
     "output_type": "stream",
     "text": [
      "Done detecting people (13.868738174438477 s)\n",
      "Detecting ball trajectory\n"
     ]
    },
    {
     "name": "stderr",
     "output_type": "stream",
     "text": [
      "100%|██████████████████████████████████████████████████████████████████████████████████| 98/98 [00:09<00:00, 10.72it/s]\n"
     ]
    },
    {
     "name": "stdout",
     "output_type": "stream",
     "text": [
      "Done detecting ball trajectory (9.14215636253357 s)\n",
      "Saving results\n",
      "Done detecting ball trajectory (0.0016667842864990234 s)\n",
      "Total time: 40.31314158439636 s\n",
      "Processing segment: V007_0073\n",
      "Reading video\n",
      "Done reading 83 video frames (0.13526296615600586 s)\n",
      "Loading models\n",
      "Done loading models (0.9560263156890869 s)\n",
      "Detecting court\n"
     ]
    },
    {
     "name": "stderr",
     "output_type": "stream",
     "text": [
      " 89%|█████████████████████████████████████████████████████████████████████████         | 74/83 [00:11<00:01,  6.55it/s]\n"
     ]
    },
    {
     "ename": "KeyboardInterrupt",
     "evalue": "",
     "output_type": "error",
     "traceback": [
      "\u001b[0;31m---------------------------------------------------------------------------\u001b[0m",
      "\u001b[0;31mKeyboardInterrupt\u001b[0m                         Traceback (most recent call last)",
      "Cell \u001b[0;32mIn[20], line 2\u001b[0m\n\u001b[1;32m      1\u001b[0m \u001b[38;5;28;01mfor\u001b[39;00m i, segment_file \u001b[38;5;129;01min\u001b[39;00m \u001b[38;5;28menumerate\u001b[39m(segment_files):\n\u001b[0;32m----> 2\u001b[0m     \u001b[43mprocess_segment\u001b[49m\u001b[43m(\u001b[49m\u001b[43mos\u001b[49m\u001b[38;5;241;43m.\u001b[39;49m\u001b[43mpath\u001b[49m\u001b[38;5;241;43m.\u001b[39;49m\u001b[43mjoin\u001b[49m\u001b[43m(\u001b[49m\u001b[43msegments_path\u001b[49m\u001b[43m,\u001b[49m\u001b[43m \u001b[49m\u001b[43msegment_file\u001b[49m\u001b[43m)\u001b[49m\u001b[43m,\u001b[49m\u001b[43m \u001b[49m\u001b[43moverwrite\u001b[49m\u001b[38;5;241;43m=\u001b[39;49m\u001b[38;5;28;43;01mFalse\u001b[39;49;00m\u001b[43m,\u001b[49m\u001b[43m \u001b[49m\u001b[43mverbose\u001b[49m\u001b[38;5;241;43m=\u001b[39;49m\u001b[38;5;28;43;01mTrue\u001b[39;49;00m\u001b[43m)\u001b[49m\n",
      "Cell \u001b[0;32mIn[18], line 35\u001b[0m, in \u001b[0;36mprocess_segment\u001b[0;34m(segment_path, labels_path, verbose, overwrite)\u001b[0m\n\u001b[1;32m     33\u001b[0m \u001b[38;5;66;03m# Detect court \u001b[39;00m\n\u001b[1;32m     34\u001b[0m \u001b[38;5;28;01mif\u001b[39;00m verbose: \u001b[38;5;28mprint\u001b[39m(\u001b[38;5;124m\"\u001b[39m\u001b[38;5;124mDetecting court\u001b[39m\u001b[38;5;124m\"\u001b[39m)\n\u001b[0;32m---> 35\u001b[0m homography_matrices, kps_court \u001b[38;5;241m=\u001b[39m \u001b[43mcourt_detector\u001b[49m\u001b[38;5;241;43m.\u001b[39;49m\u001b[43minfer_model\u001b[49m\u001b[43m(\u001b[49m\u001b[43mframes\u001b[49m\u001b[43m)\u001b[49m\n\u001b[1;32m     36\u001b[0m court_time \u001b[38;5;241m=\u001b[39m time\u001b[38;5;241m.\u001b[39mtime()\n\u001b[1;32m     37\u001b[0m \u001b[38;5;28;01mif\u001b[39;00m verbose: \u001b[38;5;28mprint\u001b[39m(\u001b[38;5;124mf\u001b[39m\u001b[38;5;124m\"\u001b[39m\u001b[38;5;124mDone detecting court (\u001b[39m\u001b[38;5;132;01m{\u001b[39;00mcourt_time\u001b[38;5;250m \u001b[39m\u001b[38;5;241m-\u001b[39m\u001b[38;5;250m \u001b[39mmodels_time\u001b[38;5;132;01m}\u001b[39;00m\u001b[38;5;124m s)\u001b[39m\u001b[38;5;124m\"\u001b[39m)\n",
      "File \u001b[0;32m~/adl_ai_tennis_coach/src/data/tennis-project/court_detection_net.py:32\u001b[0m, in \u001b[0;36mCourtDetectorNet.infer_model\u001b[0;34m(self, frames)\u001b[0m\n\u001b[1;32m     30\u001b[0m inp \u001b[38;5;241m=\u001b[39m inp\u001b[38;5;241m.\u001b[39munsqueeze(\u001b[38;5;241m0\u001b[39m)\n\u001b[1;32m     31\u001b[0m out \u001b[38;5;241m=\u001b[39m \u001b[38;5;28mself\u001b[39m\u001b[38;5;241m.\u001b[39mmodel(inp\u001b[38;5;241m.\u001b[39mfloat()\u001b[38;5;241m.\u001b[39mto(\u001b[38;5;28mself\u001b[39m\u001b[38;5;241m.\u001b[39mdevice))[\u001b[38;5;241m0\u001b[39m]\n\u001b[0;32m---> 32\u001b[0m pred \u001b[38;5;241m=\u001b[39m \u001b[43mF\u001b[49m\u001b[38;5;241;43m.\u001b[39;49m\u001b[43msigmoid\u001b[49m\u001b[43m(\u001b[49m\u001b[43mout\u001b[49m\u001b[43m)\u001b[49m\u001b[38;5;241;43m.\u001b[39;49m\u001b[43mdetach\u001b[49m\u001b[43m(\u001b[49m\u001b[43m)\u001b[49m\u001b[38;5;241;43m.\u001b[39;49m\u001b[43mcpu\u001b[49m\u001b[43m(\u001b[49m\u001b[43m)\u001b[49m\u001b[38;5;241m.\u001b[39mnumpy()\n\u001b[1;32m     34\u001b[0m points \u001b[38;5;241m=\u001b[39m []\n\u001b[1;32m     35\u001b[0m \u001b[38;5;28;01mfor\u001b[39;00m kps_num \u001b[38;5;129;01min\u001b[39;00m \u001b[38;5;28mrange\u001b[39m(\u001b[38;5;241m14\u001b[39m):\n",
      "\u001b[0;31mKeyboardInterrupt\u001b[0m: "
     ]
    }
   ],
   "source": [
    "for i, segment_file in enumerate(segment_files):\n",
    "    process_segment(os.path.join(segments_path, segment_file), overwrite=False, verbose=True)"
   ]
  },
  {
   "cell_type": "code",
   "execution_count": 13,
   "metadata": {},
   "outputs": [],
   "source": [
    "def read_segment_labels(\n",
    "    segment_path,\n",
    "    labels_path=labels_path,\n",
    "    load_frame_validity=True,\n",
    "    load_court=True,\n",
    "    load_ball=True,\n",
    "    load_player_bbox=True,\n",
    "):\n",
    "    # Parse segment name\n",
    "    segment_dir, segment_filename = os.path.split(segment_path)\n",
    "    segment_name, segment_ext = os.path.splitext(segment_filename)\n",
    "\n",
    "    # Read labels\n",
    "    frame_validity = None\n",
    "    court_sequence = None\n",
    "    ball_sequence = None\n",
    "    player_btm_bbox_sequence = None\n",
    "    player_top_bbox_sequence = None\n",
    "    # Load frame validity\n",
    "    if load_frame_validity:\n",
    "        frame_validity_path = os.path.join(labels_path, f\"{segment_name}_frame_validity.npy\")\n",
    "        frame_validity = np.load(frame_validity_path, allow_pickle=True)\n",
    "    # Load court\n",
    "    if load_court:\n",
    "        court_path = os.path.join(labels_path, f\"{segment_name}_court.npy\")\n",
    "        court_sequence = np.load(court_path, allow_pickle=True)\n",
    "    # Load ball\n",
    "    if load_ball:\n",
    "        ball_path = os.path.join(labels_path, f\"{segment_name}_ball.npy\")\n",
    "        ball_sequence = np.load(ball_path, allow_pickle=True)\n",
    "    # Load player bounding boxes\n",
    "    if load_player_bbox:\n",
    "        player_btm_bbox_path = os.path.join(labels_path, f\"{segment_name}_player_btm_bbox.npy\")\n",
    "        player_btm_bbox_sequence = np.load(player_btm_bbox_path, allow_pickle=True)\n",
    "        player_top_bbox_path = os.path.join(labels_path, f\"{segment_name}_player_top_bbox.npy\")\n",
    "        player_top_bbox_sequence = np.load(player_top_bbox_path, allow_pickle=True)\n",
    "    \n",
    "    # Return labels\n",
    "    return frame_validity, court_sequence, ball_sequence, player_btm_bbox_sequence, player_top_bbox_sequence"
   ]
  },
  {
   "cell_type": "code",
   "execution_count": 14,
   "metadata": {},
   "outputs": [],
   "source": [
    "def visualize_frame_annotations(\n",
    "    frame,\n",
    "    court_points,\n",
    "    ball_point,\n",
    "    player_btm_bbox,\n",
    "    player_top_bbox,\n",
    "    show_court_numbers=False,\n",
    "    show_img = False,\n",
    "):\n",
    "    # Copy frame\n",
    "    img = frame.copy()\n",
    "\n",
    "    # Show court points\n",
    "    for i, (x, y) in enumerate(court_points):\n",
    "        if x is None or y is None:\n",
    "            continue\n",
    "        img = cv2.circle(img, (int(x), int(y)), 5, (0, 0, 255), 5)\n",
    "        if show_court_numbers:\n",
    "            img = cv2.putText(img, str(i), (int(x) + 15, int(y) - 15),  cv2.FONT_HERSHEY_SIMPLEX, 1, (0, 0, 255), 2, cv2.LINE_AA)\n",
    "    \n",
    "    # Show ball\n",
    "    x, y = ball_point\n",
    "    if x is not None and y is not None:\n",
    "        img = cv2.circle(img, (int(x), int(y)), 5, (0, 180, 255), 5)\n",
    "    \n",
    "    # Show player bounding boxes\n",
    "    for bbox in [player_btm_bbox, player_top_bbox]:\n",
    "        x1, y1, x2, y2 = bbox\n",
    "        img = cv2.rectangle(img, (int(x1), int(y1)), (int(x2), int(y2)), (255, 0, 0), 2)\n",
    "\n",
    "    #  Show image\n",
    "    if show_img:\n",
    "        fig, ax = plt.subplots()\n",
    "        ax.imshow(img[:,:,::-1])\n",
    "        plt.show()\n",
    "    \n",
    "    return img"
   ]
  },
  {
   "cell_type": "code",
   "execution_count": 15,
   "metadata": {},
   "outputs": [],
   "source": [
    "def visualize_segment_labels(\n",
    "    segment_path, \n",
    "    out_path=None,\n",
    "    labels_path=labels_path,\n",
    "):\n",
    "    # Parse segment name\n",
    "    segment_dir, segment_filename = os.path.split(segment_path)\n",
    "    segment_name, segment_ext = os.path.splitext(segment_filename)\n",
    "    \n",
    "    # Read frames\n",
    "    frames, fps = read_video(segment_path)\n",
    "    assert frames is not None and len(frames), \"Segment could not be read\"\n",
    "    frame_height, frame_width, _ = frames[0].shape\n",
    "\n",
    "    # Read labels\n",
    "    frame_validity, court_sequence, ball_sequence, player_btm_bbox_sequence, player_top_bbox_sequence = read_segment_labels(segment_path, labels_path=labels_path)\n",
    "\n",
    "    # Video writer\n",
    "    fourcc = cv2.VideoWriter_fourcc(*\"avc1\")\n",
    "    default_out_path =  os.path.join(labels_path, f\"{segment_name}_annotated.mp4\")\n",
    "    out_path = out_path if out_path is not None else default_out_path\n",
    "    writer = cv2.VideoWriter(out_path, fourcc, fps, (frame_width, frame_height))\n",
    "\n",
    "    # Visualize & write video\n",
    "    frame_index = 0\n",
    "    for i, frame in enumerate(frames):\n",
    "        # Skip invalid frames\n",
    "        if not frame_validity[i]:\n",
    "            continue\n",
    "        frame = visualize_frame_annotations(\n",
    "            frame, \n",
    "            court_sequence[frame_index], \n",
    "            ball_sequence[frame_index], \n",
    "            player_btm_bbox_sequence[frame_index], \n",
    "            player_top_bbox_sequence[frame_index],\n",
    "            show_court_numbers=True,\n",
    "            show_img=frame_index==0\n",
    "        )\n",
    "        writer.write(frame)\n",
    "        frame_index += 1\n",
    "    \n",
    "    # Release video\n",
    "    writer.release()\n",
    "\n",
    "    return out_path"
   ]
  },
  {
   "cell_type": "code",
   "execution_count": 17,
   "metadata": {},
   "outputs": [
    {
     "data": {
      "image/png": "[encoded data removed]",
      "text/plain": [
       "<Figure size 640x480 with 1 Axes>"
      ]
     },
     "metadata": {},
     "output_type": "display_data"
    },
    {
     "name": "stdout",
     "output_type": "stream",
     "text": [
      "/home/florsanders/adl_ai_tennis_coach/data/tenniset/labels/V007_0021_annotated.mp4\n"
     ]
    }
   ],
   "source": [
    "out_path = visualize_segment_labels(os.path.join(segments_path, \"V007_0021.mp4\"))\n",
    "print(out_path)"
   ]
  },
  {
   "cell_type": "code",
   "execution_count": null,
   "metadata": {},
   "outputs": [],
   "source": []
  },
  {
   "cell_type": "markdown",
   "metadata": {},
   "source": [
    "### Step 3 - Player Pose Detection"
   ]
  },
  {
   "cell_type": "code",
   "execution_count": null,
   "metadata": {},
   "outputs": [],
   "source": []
  },
  {
   "cell_type": "code",
   "execution_count": null,
   "metadata": {},
   "outputs": [],
   "source": []
  }
 ],
 "metadata": {
  "kernelspec": {
   "display_name": "Python 3 (ipykernel)",
   "language": "python",
   "name": "python3"
  },
  "language_info": {
   "codemirror_mode": {
    "name": "ipython",
    "version": 3
   },
   "file_extension": ".py",
   "mimetype": "text/x-python",
   "name": "python",
   "nbconvert_exporter": "python",
   "pygments_lexer": "ipython3",
   "version": "3.9.19"
  }
 },
 "nbformat": 4,
 "nbformat_minor": 4
}
