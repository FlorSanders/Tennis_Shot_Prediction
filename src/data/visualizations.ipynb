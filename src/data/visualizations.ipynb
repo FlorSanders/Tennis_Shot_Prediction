{
 "cells": [
  {
   "cell_type": "markdown",
   "metadata": {},
   "source": [
    "# Data & Model Results Visualizations"
   ]
  },
  {
   "cell_type": "markdown",
   "metadata": {},
   "source": [
    "## Setup"
   ]
  },
  {
   "cell_type": "code",
   "execution_count": null,
   "metadata": {},
   "outputs": [],
   "source": [
    "# Library reloading\n",
    "%matplotlib inline\n",
    "%load_ext autoreload\n",
    "%autoreload 2"
   ]
  },
  {
   "cell_type": "code",
   "execution_count": null,
   "metadata": {},
   "outputs": [],
   "source": [
    "# Import libraries\n",
    "import os\n",
    "import glob\n",
    "import sys\n",
    "import numpy as np\n",
    "import matplotlib.pyplot as plt\n",
    "import cv2"
   ]
  },
  {
   "cell_type": "code",
   "execution_count": null,
   "metadata": {},
   "outputs": [],
   "source": [
    "# Import utils\n",
    "from __init__ import base_path\n",
    "from data import (\n",
    "    read_segment_frames,\n",
    "    read_segment_info,\n",
    "    read_segment_2d_annotations,\n",
    "    read_segment_3d_annotations,\n",
    ")\n",
    "from visualizations import (\n",
    "    plot_img,\n",
    "    fig_to_img,\n",
    "    crop_img_to_bbox,\n",
    "    crop_img_to_content,\n",
    "    visualize_frame_2d_annotations,\n",
    "    visualize_segment_2d_annotations,\n",
    "    plot_3d_pose,\n",
    "    plot_3d_court,\n",
    "    make_3d_figax,\n",
    "    animate_3d_pose,\n",
    "    visualize_segment_3d_annotations,\n",
    ")"
   ]
  },
  {
   "cell_type": "code",
   "execution_count": null,
   "metadata": {},
   "outputs": [],
   "source": [
    "# Define data directories\n",
    "figures_dir = \"./figures\"\n",
    "data_dir = os.path.abspath(os.path.join(base_path, \"..\", \"data\"))\n",
    "dataset_dir = os.path.join(data_dir, \"tenniset\")\n",
    "segments_dir = os.path.join(dataset_dir, \"segments\")\n",
    "labels_dir = os.path.join(dataset_dir, \"labels\")"
   ]
  },
  {
   "cell_type": "code",
   "execution_count": null,
   "metadata": {},
   "outputs": [],
   "source": [
    "# Load segments\n",
    "segment_paths = np.sort(glob.glob(os.path.join(segments_dir, \"*.mp4\")))\n",
    "n_segments = len(segment_paths)\n",
    "print(f\"Found {n_segments} segments\")"
   ]
  },
  {
   "cell_type": "markdown",
   "metadata": {},
   "source": [
    "## Data Visualizations"
   ]
  },
  {
   "cell_type": "code",
   "execution_count": null,
   "metadata": {},
   "outputs": [],
   "source": [
    "# Pick a random segment\n",
    "segment_path = np.random.choice(segment_paths)\n",
    "segment_path = \"/home/florsanders/Code/columbia_university/advanced_deep_learning/adl_ai_tennis_coach/data/tenniset/segments/V006_0032.mp4\"\n",
    "print(segment_path)"
   ]
  },
  {
   "cell_type": "markdown",
   "metadata": {},
   "source": [
    "### Frame Visualizations"
   ]
  },
  {
   "cell_type": "code",
   "execution_count": null,
   "metadata": {},
   "outputs": [],
   "source": [
    "# Load frames & annotations\n",
    "frames, fps = read_segment_frames(segment_path, labels_path=labels_dir)\n",
    "n_frames = len(frames)\n",
    "try:\n",
    "    info = read_segment_info(segment_path, labels_path=labels_dir)\n",
    "except:\n",
    "    info = {}\n",
    "(\n",
    "    court_sequence,\n",
    "    ball_sequence,\n",
    "    player_btm_bbox_sequence,\n",
    "    player_top_bbox_sequence,\n",
    "    player_btm_pose_sequence,\n",
    "    player_top_pose_sequence,\n",
    ") = read_segment_2d_annotations(segment_path, labels_path=labels_dir)\n",
    "(\n",
    "    player_btm_position_sequence,\n",
    "    player_top_position_sequence,\n",
    "    player_btm_pose_3d_sequence,\n",
    "    player_top_pose_3d_sequence,\n",
    ") = read_segment_3d_annotations(segment_path, labels_path=labels_dir)\n",
    "\n",
    "print(f\"Loaded {n_frames} valid frames for {os.path.basename(segment_path)}\")\n",
    "for key, value in info.items():\n",
    "    print(f\"- {key}: {value}\")"
   ]
  },
  {
   "cell_type": "code",
   "execution_count": null,
   "metadata": {},
   "outputs": [],
   "source": [
    "# Pick a random frame\n",
    "frame_index = np.random.randint(0, len(frames) - 1)\n",
    "print(f\"Picked frame {frame_index}\")"
   ]
  },
  {
   "cell_type": "code",
   "execution_count": null,
   "metadata": {},
   "outputs": [],
   "source": [
    "# Save raw frame\n",
    "cv2.imwrite(os.path.join(figures_dir, \"frame.jpg\"), frames[frame_index])"
   ]
  },
  {
   "cell_type": "markdown",
   "metadata": {},
   "source": [
    "#### 2D Frame Visualizations"
   ]
  },
  {
   "cell_type": "code",
   "execution_count": null,
   "metadata": {},
   "outputs": [],
   "source": [
    "# Visualize frame\n",
    "img = visualize_frame_2d_annotations(\n",
    "    frames[frame_index],\n",
    "    court_sequence[frame_index],\n",
    "    ball_sequence[frame_index],\n",
    "    player_btm_bbox_sequence[frame_index],\n",
    "    player_top_bbox_sequence[frame_index],\n",
    "    player_btm_pose_sequence[frame_index],\n",
    "    player_top_pose_sequence[frame_index],\n",
    "    show_court=True,\n",
    "    show_court_numbers=False,\n",
    "    show_ball=True,\n",
    "    show_bbox=True,\n",
    "    show_pose=False,\n",
    "    show_picture_in_picture=False,\n",
    "    show_img=True,\n",
    ")\n",
    "cv2.imwrite(os.path.join(figures_dir, \"frame_2d_annotation.jpg\"), img)"
   ]
  },
  {
   "cell_type": "code",
   "execution_count": null,
   "metadata": {},
   "outputs": [],
   "source": [
    "# Visualize frame\n",
    "img = visualize_frame_2d_annotations(\n",
    "    frames[frame_index],\n",
    "    court_sequence[frame_index],\n",
    "    ball_sequence[frame_index],\n",
    "    player_btm_bbox_sequence[frame_index],\n",
    "    player_top_bbox_sequence[frame_index],\n",
    "    player_btm_pose_sequence[frame_index],\n",
    "    player_top_pose_sequence[frame_index],\n",
    "    show_court=True,\n",
    "    show_court_numbers=False,\n",
    "    show_ball=False,\n",
    "    show_bbox=False,\n",
    "    show_pose=True,\n",
    "    show_picture_in_picture=True,\n",
    "    show_img=True,\n",
    ")\n",
    "cv2.imwrite(os.path.join(figures_dir, \"frame_2d_annotation_pip.jpg\"), img)"
   ]
  },
  {
   "cell_type": "code",
   "execution_count": null,
   "metadata": {},
   "outputs": [],
   "source": [
    "# Visualize player btm bbox crop\n",
    "cropped_img = crop_img_to_bbox(\n",
    "    frames[frame_index], player_btm_bbox_sequence[frame_index], show_img=True, resize_to=500\n",
    ")\n",
    "cv2.imwrite(os.path.join(figures_dir, \"player_btm_bbox.jpg\"), cropped_img)\n",
    "\n",
    "# Visualize player top crop\n",
    "cropped_img = crop_img_to_bbox(\n",
    "    frames[frame_index], player_top_bbox_sequence[frame_index], show_img=True, resize_to=500\n",
    ")\n",
    "cv2.imwrite(os.path.join(figures_dir, \"player_top_bbox.jpg\"), cropped_img)\n",
    "\n",
    "# Visualize ball crop\n",
    "x, y = ball_sequence[frame_index]\n",
    "cropped_img = crop_img_to_bbox(\n",
    "    frames[frame_index], (x, y, x, y), padding=25, show_img=True, resize_to=500\n",
    ")\n",
    "cv2.imwrite(os.path.join(figures_dir, \"ball_bbox.jpg\"), cropped_img)"
   ]
  },
  {
   "cell_type": "code",
   "execution_count": null,
   "metadata": {},
   "outputs": [],
   "source": []
  },
  {
   "cell_type": "markdown",
   "metadata": {},
   "source": [
    "#### 3D Frame Visualizations"
   ]
  },
  {
   "cell_type": "code",
   "execution_count": null,
   "metadata": {},
   "outputs": [],
   "source": [
    "# Plot bottom player pose\n",
    "#print(player_btm_pose_3d_sequence.shape)\n",
    "fig, ax = plot_3d_pose(\n",
    "    player_btm_pose_3d_sequence[frame_index],\n",
    "    x_global = 0,#player_btm_position_sequence[frame_index][0],\n",
    "    y_global = 0,#player_btm_position_sequence[frame_index][1],\n",
    "    fig = None,\n",
    "    ax = None,\n",
    "    color = 'blue',\n",
    ")\n",
    "ax.set_aspect(\"equal\", adjustable=\"box\")\n",
    "plt.show()\n",
    "\n",
    "# Save as image\n",
    "img = fig_to_img(fig)\n",
    "cv2.imwrite(os.path.join(figures_dir, 'player_btm_pose_3d.png'), crop_img_to_content(img))\n",
    "fig.set_dpi(100)"
   ]
  },
  {
   "cell_type": "code",
   "execution_count": null,
   "metadata": {},
   "outputs": [],
   "source": [
    "# Plot top player pose\n",
    "fig, ax = plot_3d_pose(\n",
    "    player_top_pose_3d_sequence[frame_index],\n",
    "    x_global = 0, #player_top_position_scaled[frame_index][0],\n",
    "    y_global = 0, #player_top_position_scaled[frame_index][1],\n",
    "    fig = None,\n",
    "    ax = None,\n",
    "    color = 'green',\n",
    ")\n",
    "ax.set_aspect(\"equal\", adjustable=\"box\")\n",
    "plt.show()\n",
    "fig.tight_layout()\n",
    "# Save as image\n",
    "img = fig_to_img(fig)\n",
    "cv2.imwrite(os.path.join(figures_dir, 'player_top_pose_3d.png'), crop_img_to_content(img))\n",
    "fig.set_dpi(100)"
   ]
  },
  {
   "cell_type": "code",
   "execution_count": null,
   "metadata": {},
   "outputs": [],
   "source": [
    "# Plot players on court\n",
    "fig, ax = make_3d_figax()\n",
    "\n",
    "# Plot 3D Court \n",
    "court_width = 10.97\n",
    "court_length = 23.77\n",
    "fig, ax = plot_3d_court(fig, ax, court_width, court_length, half=False)\n",
    "\n",
    "# Plot bottom player\n",
    "fig, ax = plot_3d_pose(\n",
    "    player_btm_pose_3d_sequence[frame_index],\n",
    "    x_global = player_btm_position_sequence[frame_index][0],\n",
    "    y_global = player_btm_position_sequence[frame_index][1],\n",
    "    fig = fig,\n",
    "    ax = ax,\n",
    "    color = 'blue',\n",
    "    marker=None,\n",
    ")\n",
    "\n",
    "# Plot top player\n",
    "fig, ax = plot_3d_pose(\n",
    "    player_top_pose_3d_sequence[frame_index],\n",
    "    x_global = player_top_position_sequence[frame_index][0],\n",
    "    y_global = player_top_position_sequence[frame_index][1],\n",
    "    fig = fig,\n",
    "    ax = ax,\n",
    "    color = 'green',\n",
    "    marker=None\n",
    ")\n",
    "\n",
    "# Set axis properties\n",
    "ax.set_xlim(-court_width/2, court_width/2)\n",
    "ax.set_ylim(-court_length/2, 0)\n",
    "ax.set_aspect(\"equal\", adjustable=\"box\")\n",
    "fig.tight_layout()\n",
    "plt.show()\n",
    "\n",
    "# Save as img\n",
    "img = fig_to_img(fig)\n",
    "cv2.imwrite(os.path.join(figures_dir, \"frame_3d_annotation.jpg\"), crop_img_to_content(img))\n",
    "fig.set_dpi(100)\n"
   ]
  },
  {
   "cell_type": "code",
   "execution_count": null,
   "metadata": {},
   "outputs": [],
   "source": []
  },
  {
   "cell_type": "markdown",
   "metadata": {},
   "source": [
    "### Segment Visualizations"
   ]
  },
  {
   "cell_type": "markdown",
   "metadata": {},
   "source": [
    "#### Segment 2D Visualizations"
   ]
  },
  {
   "cell_type": "code",
   "execution_count": null,
   "metadata": {},
   "outputs": [],
   "source": [
    "visualize_segment_2d_annotations(\n",
    "    segment_path,\n",
    "    os.path.join(figures_dir, \"segment_2d_annotation.mp4\"),\n",
    "    labels_path=labels_dir,\n",
    "    show_court=True,\n",
    "    show_court_numbers=False,\n",
    "    show_ball=True,\n",
    "    show_bbox=True,\n",
    "    show_pose=False,\n",
    "    show_picture_in_picture=False,\n",
    "    show_img=False,\n",
    ")"
   ]
  },
  {
   "cell_type": "code",
   "execution_count": null,
   "metadata": {},
   "outputs": [],
   "source": [
    "visualize_segment_2d_annotations(\n",
    "    segment_path,\n",
    "    os.path.join(figures_dir, \"./segment_2d_annotation_pip.mp4\"),\n",
    "    labels_path=labels_dir,\n",
    "    show_court=True,\n",
    "    show_court_numbers=False,\n",
    "    show_ball=False,\n",
    "    show_bbox=False,\n",
    "    show_pose=True,\n",
    "    show_picture_in_picture=True,\n",
    "    show_img=False,\n",
    ")"
   ]
  },
  {
   "cell_type": "code",
   "execution_count": null,
   "metadata": {},
   "outputs": [],
   "source": []
  },
  {
   "cell_type": "markdown",
   "metadata": {},
   "source": [
    "#### Segment 3D Visualizations"
   ]
  },
  {
   "cell_type": "code",
   "execution_count": null,
   "metadata": {},
   "outputs": [],
   "source": [
    "# Animate bottom player on court\n",
    "ani = animate_3d_pose(\n",
    "    player_btm_pose_3d_sequence,\n",
    "    player_btm_position_sequence,\n",
    "    color=\"blue\",\n",
    "    plot_court=True,\n",
    "    save_path=os.path.join(figures_dir, \"player_btm_pose_3d_court.mp4\"),\n",
    ")\n",
    "ani = animate_3d_pose(\n",
    "    player_btm_pose_3d_sequence,\n",
    "    player_btm_position_sequence,\n",
    "    color=\"blue\",\n",
    "    plot_court=False,\n",
    "    save_path=os.path.join(figures_dir, \"player_btm_pose_3d.mp4\"),\n",
    ")\n",
    "plt.show()"
   ]
  },
  {
   "cell_type": "code",
   "execution_count": null,
   "metadata": {},
   "outputs": [],
   "source": [
    "# Animate top player on court\n",
    "ani = animate_3d_pose(\n",
    "    player_top_pose_3d_sequence*np.expand_dims([-1, -1, 1], (0, 1)),\n",
    "    player_top_position_sequence*(-1),\n",
    "    color=\"green\",\n",
    "    plot_court=True,\n",
    "    save_path=os.path.join(figures_dir, \"player_top_pose_3d_court.mp4\"),\n",
    ")\n",
    "ani = animate_3d_pose(\n",
    "    player_top_pose_3d_sequence*np.expand_dims([-1, -1, 1], (0, 1)),\n",
    "    player_top_position_sequence*(-1),\n",
    "    color=\"green\",\n",
    "    plot_court=False,\n",
    "    save_path=os.path.join(figures_dir, \"player_top_pose_3d.mp4\"),\n",
    ")\n",
    "plt.show()"
   ]
  },
  {
   "cell_type": "code",
   "execution_count": null,
   "metadata": {},
   "outputs": [],
   "source": [
    "ani = visualize_segment_3d_annotations(\n",
    "    segment_path,\n",
    "    os.path.join(figures_dir, \"segment_3d_annotation.mp4\"),\n",
    "    labels_path=labels_dir,\n",
    ")\n",
    "plt.show()"
   ]
  },
  {
   "cell_type": "code",
   "execution_count": null,
   "metadata": {},
   "outputs": [],
   "source": [
    "# Postprocess 3D pose animations\n",
    "import cv2\n",
    "videos_to_process = glob.glob(os.path.join(figures_dir, \"*3d*.mp4\"))\n",
    "margin=50\n",
    "for video_path in videos_to_process:\n",
    "    video_dir, video_filename = os.path.split(video_path)\n",
    "    video_name, video_ext = os.path.splitext(video_filename)\n",
    "    if \"cropped\" in video_name:\n",
    "        continue\n",
    "    print(video_path)\n",
    "    # Load frames\n",
    "    frames, fps = read_segment_frames(video_path, load_valid_frames_only=False)\n",
    "    \n",
    "    # Determine content bbox\n",
    "    frames_mean = np.mean(np.asarray(frames), axis=(0, 3))\n",
    "    flmask = np.array([0, -1])\n",
    "    frames_h_mean = np.mean(frames_mean, axis=(1))\n",
    "    x1, x2 = np.argwhere(frames_h_mean != 255).reshape(-1)[flmask]\n",
    "    frames_w_mean = np.mean(frames_mean, axis=(0))\n",
    "    y1, y2 = np.argwhere(frames_w_mean != 255).reshape(-1)[flmask]\n",
    "\n",
    "    # Check content size\n",
    "    img = crop_img_to_bbox(frames[0], (y1, x1, y2, x2), padding=margin, resize_to=None, square=False)\n",
    "    h, w = img.shape[:2]\n",
    "\n",
    "    # Video writer\n",
    "    fourcc = cv2.VideoWriter_fourcc(*\"avc1\")\n",
    "    writer = cv2.VideoWriter(\n",
    "        os.path.join(video_dir, video_name + \"_cropped\" + video_ext),\n",
    "        fourcc,\n",
    "        fps,\n",
    "        (w, h),\n",
    "    )\n",
    "\n",
    "    # Writer frames\n",
    "    for frame in frames:\n",
    "        img = crop_img_to_bbox(frame, (y1, x1, y2, x2), padding=margin, resize_to=None, square=False)\n",
    "        writer.write(img)\n",
    "    \n",
    "    # Release writer\n",
    "    writer.release()"
   ]
  },
  {
   "cell_type": "code",
   "execution_count": null,
   "metadata": {},
   "outputs": [],
   "source": []
  },
  {
   "cell_type": "markdown",
   "metadata": {},
   "source": [
    "## Data visualizations"
   ]
  },
  {
   "cell_type": "code",
   "execution_count": null,
   "metadata": {},
   "outputs": [],
   "source": []
  }
 ],
 "metadata": {
  "kernelspec": {
   "display_name": "teco",
   "language": "python",
   "name": "python3"
  },
  "language_info": {
   "codemirror_mode": {
    "name": "ipython",
    "version": 3
   },
   "file_extension": ".py",
   "mimetype": "text/x-python",
   "name": "python",
   "nbconvert_exporter": "python",
   "pygments_lexer": "ipython3",
   "version": "3.9.15"
  },
  "orig_nbformat": 4
 },
 "nbformat": 4,
 "nbformat_minor": 2
}
