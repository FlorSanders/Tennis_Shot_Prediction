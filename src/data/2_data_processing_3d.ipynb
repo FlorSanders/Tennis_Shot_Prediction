{
 "cells": [
  {
   "cell_type": "markdown",
   "metadata": {},
   "source": [
    "# 2D -> 3D Data Processing\n",
    "Execution of this notebook is meant to follow `1_data_processing.ipynb`. \n",
    "\n",
    "The "
   ]
  },
  {
   "cell_type": "markdown",
   "metadata": {},
   "source": [
    "## Sample the data"
   ]
  },
  {
   "cell_type": "code",
   "execution_count": null,
   "metadata": {},
   "outputs": [],
   "source": [
    "import os\n",
    "\n",
    "# Constants\n",
    "from PoseLifter import PoseLifter\n",
    "from data_utils import crop_frame\n",
    "\n",
    "# Choose dataset\n",
    "dataset_path = \"/home/florsanders/adl_ai_tennis_coach/data/tenniset\"\n",
    "write_path = \"/home/georgetamer/3d_poses\"\n",
    "segments_path = os.path.join(dataset_path, \"segments\")\n",
    "labels_path = os.path.join(dataset_path,\"labels\")"
   ]
  },
  {
   "cell_type": "code",
   "execution_count": null,
   "metadata": {},
   "outputs": [],
   "source": [
    "from heuristics import keep_largest_volume_3D_pose_heuristic\n",
    "\n",
    "pose_lifter = PoseLifter(\n",
    "    crop_fn=crop_frame,\n",
    "    dedup_heuristic_fn=keep_largest_volume_3D_pose_heuristic,\n",
    "    dataset_path=dataset_path,\n",
    "    write_path=write_path,\n",
    "    duplicate_work=False)"
   ]
  },
  {
   "cell_type": "code",
   "execution_count": null,
   "metadata": {},
   "outputs": [],
   "source": [
    "pose_lifter.extract_3d_poses()"
   ]
  },
  {
   "cell_type": "code",
   "execution_count": null,
   "metadata": {},
   "outputs": [],
   "source": [
    "# %pip install numpy\n",
    "# import numpy as np\n",
    "# # Load the .npy file\n",
    "\n",
    "# write_path = \"/home/georgetamer/3d_poses\"\n",
    "# # sample_file = os.path.join(write_path, 'V009_0061_player_btm_pose_3d.npy')\n",
    "# sample_file = os.path.join(labels_path, 'V010_0071_player_top_bbox.npy')\n",
    "# data = np.load(sample_file, allow_pickle=True)\n",
    "# # Print the contents of the file\n",
    "# print(data.shape)"
   ]
  },
  {
   "cell_type": "code",
   "execution_count": null,
   "metadata": {},
   "outputs": [],
   "source": [
    "# # visualize\n",
    "# from mmpose.apis import visualize\n",
    "\n",
    "# # extract first frame from segment\n",
    "# img_path = os.path.join(write_path, '000000.jpg')\n",
    "# keypoints = np.load(sample_file, allow_pickle=True)\n",
    "# keypoint_scores = None\n",
    "\n",
    "# metainfo = 'config/_base_/datasets/coco.py'\n",
    "\n",
    "# visualize(\n",
    "#     img_path,\n",
    "#     keypoints,\n",
    "#     keypoint_scores,\n",
    "#     metainfo=metainfo,\n",
    "#     show=True)"
   ]
  }
 ],
 "metadata": {
  "kernelspec": {
   "display_name": "Python 3",
   "language": "python",
   "name": "python3"
  },
  "language_info": {
   "codemirror_mode": {
    "name": "ipython",
    "version": 3
   },
   "file_extension": ".py",
   "mimetype": "text/x-python",
   "name": "python",
   "nbconvert_exporter": "python",
   "pygments_lexer": "ipython3",
   "version": "3.9.6"
  }
 },
 "nbformat": 4,
 "nbformat_minor": 2
}
