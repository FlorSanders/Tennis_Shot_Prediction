{
 "cells": [
  {
   "cell_type": "markdown",
   "metadata": {},
   "source": [
    "# 2D -> 3D Data Processing\n",
    "Execution of this notebook is meant to follow `1_data_processing.ipynb`. \n",
    "\n",
    "The "
   ]
  },
  {
   "cell_type": "markdown",
   "metadata": {},
   "source": [
    "## Sample the data"
   ]
  },
  {
   "cell_type": "code",
   "execution_count": 4,
   "metadata": {},
   "outputs": [
    {
     "ename": "ModuleNotFoundError",
     "evalue": "No module named 'mmpose'",
     "output_type": "error",
     "traceback": [
      "\u001b[0;31m---------------------------------------------------------------------------\u001b[0m",
      "\u001b[0;31mModuleNotFoundError\u001b[0m                       Traceback (most recent call last)",
      "Cell \u001b[0;32mIn[4], line 4\u001b[0m\n\u001b[1;32m      1\u001b[0m \u001b[38;5;28;01mimport\u001b[39;00m \u001b[38;5;21;01mos\u001b[39;00m\n\u001b[1;32m      3\u001b[0m \u001b[38;5;66;03m# Constants\u001b[39;00m\n\u001b[0;32m----> 4\u001b[0m \u001b[38;5;28;01mfrom\u001b[39;00m \u001b[38;5;21;01mPoseLifter\u001b[39;00m \u001b[38;5;28;01mimport\u001b[39;00m PoseLifter\n\u001b[1;32m      5\u001b[0m \u001b[38;5;28;01mfrom\u001b[39;00m \u001b[38;5;21;01mdata_utils\u001b[39;00m \u001b[38;5;28;01mimport\u001b[39;00m crop_frame\n\u001b[1;32m      7\u001b[0m \u001b[38;5;66;03m# Choose dataset\u001b[39;00m\n",
      "File \u001b[0;32m~/e6691-2024spring-project-TECO-as7092-gyt2107-fps2116/src/data/PoseLifter.py:1\u001b[0m\n\u001b[0;32m----> 1\u001b[0m \u001b[38;5;28;01mfrom\u001b[39;00m \u001b[38;5;21;01mmmpose\u001b[39;00m\u001b[38;5;21;01m.\u001b[39;00m\u001b[38;5;21;01mapis\u001b[39;00m \u001b[38;5;28;01mimport\u001b[39;00m MMPoseInferencer\n\u001b[1;32m      2\u001b[0m \u001b[38;5;28;01mimport\u001b[39;00m \u001b[38;5;21;01mos\u001b[39;00m\n\u001b[1;32m      3\u001b[0m \u001b[38;5;28;01mimport\u001b[39;00m \u001b[38;5;21;01mnumpy\u001b[39;00m \u001b[38;5;28;01mas\u001b[39;00m \u001b[38;5;21;01mnp\u001b[39;00m\n",
      "\u001b[0;31mModuleNotFoundError\u001b[0m: No module named 'mmpose'"
     ]
    }
   ],
   "source": [
    "import os\n",
    "\n",
    "# Constants\n",
    "from PoseLifter import PoseLifter\n",
    "from data_utils import crop_frame\n",
    "\n",
    "# Choose dataset\n",
    "dataset_path = \"/home/florsanders/adl_ai_tennis_coach/data/tenniset\"\n",
    "write_path = \"/home/georgetamer/3d_poses\"\n",
    "segments_path = os.path.join(dataset_path, \"segments\")\n",
    "labels_path = os.path.join(dataset_path,\"labels\")"
   ]
  },
  {
   "cell_type": "code",
   "execution_count": null,
   "metadata": {},
   "outputs": [],
   "source": [
    "from heuristics import keep_largest_volume_3D_pose_heuristic\n",
    "\n",
    "pose_lifter = PoseLifter(\n",
    "    crop_fn=crop_frame,\n",
    "    dedup_heuristic_fn=keep_largest_volume_3D_pose_heuristic\n",
    ")\n",
    "\n",
    "pose_lifter.set_dataset_path(dataset_path)\n",
    "pose_lifter.set_write_path(write_path)"
   ]
  },
  {
   "cell_type": "code",
   "execution_count": null,
   "metadata": {},
   "outputs": [],
   "source": [
    "pose_lifter.extract_3d_poses()"
   ]
  },
  {
   "cell_type": "code",
   "execution_count": 7,
   "metadata": {},
   "outputs": [
    {
     "name": "stdout",
     "output_type": "stream",
     "text": [
      "Requirement already satisfied: numpy in /home/georgetamer/.local/lib/python3.9/site-packages (1.26.4)\n",
      "Note: you may need to restart the kernel to use updated packages.\n",
      "(165, 17, 3)\n"
     ]
    }
   ],
   "source": [
    "# %pip install numpy\n",
    "# import numpy as np\n",
    "# # Load the .npy file\n",
    "\n",
    "# write_path = \"/home/georgetamer/3d_poses\"\n",
    "# # sample_file = os.path.join(write_path, 'V009_0061_player_btm_pose_3d.npy')\n",
    "# sample_file = os.path.join(labels_path, 'V010_0071_player_top_bbox.npy')\n",
    "# data = np.load(sample_file, allow_pickle=True)\n",
    "# # Print the contents of the file\n",
    "# print(data.shape)"
   ]
  },
  {
   "cell_type": "code",
   "execution_count": null,
   "metadata": {},
   "outputs": [],
   "source": [
    "# # visualize\n",
    "# from mmpose.apis import visualize\n",
    "\n",
    "# # extract first frame from segment\n",
    "# img_path = os.path.join(write_path, '000000.jpg')\n",
    "# keypoints = np.load(sample_file, allow_pickle=True)\n",
    "# keypoint_scores = None\n",
    "\n",
    "# metainfo = 'config/_base_/datasets/coco.py'\n",
    "\n",
    "# visualize(\n",
    "#     img_path,\n",
    "#     keypoints,\n",
    "#     keypoint_scores,\n",
    "#     metainfo=metainfo,\n",
    "#     show=True)"
   ]
  }
 ],
 "metadata": {
  "kernelspec": {
   "display_name": "Python 3",
   "language": "python",
   "name": "python3"
  },
  "language_info": {
   "codemirror_mode": {
    "name": "ipython",
    "version": 3
   },
   "file_extension": ".py",
   "mimetype": "text/x-python",
   "name": "python",
   "nbconvert_exporter": "python",
   "pygments_lexer": "ipython3",
   "version": "3.9.2"
  }
 },
 "nbformat": 4,
 "nbformat_minor": 2
}
