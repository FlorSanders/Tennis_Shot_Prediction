{
 "cells": [
  {
   "cell_type": "markdown",
   "metadata": {},
   "source": [
    "# 2D -> 3D Data Processing\n",
    "Execution of this notebook is meant to follow `1_data_processing.ipynb`. \n",
    "\n",
    "The "
   ]
  },
  {
   "cell_type": "code",
   "execution_count": 2,
   "metadata": {},
   "outputs": [],
   "source": [
    "import os\n",
    "from __init__ import data_path"
   ]
  },
  {
   "cell_type": "code",
   "execution_count": 5,
   "metadata": {},
   "outputs": [
    {
     "ename": "ModuleNotFoundError",
     "evalue": "No module named 'mmpose'",
     "output_type": "error",
     "traceback": [
      "\u001b[0;31m---------------------------------------------------------------------------\u001b[0m",
      "\u001b[0;31mModuleNotFoundError\u001b[0m                       Traceback (most recent call last)",
      "Cell \u001b[0;32mIn[5], line 1\u001b[0m\n\u001b[0;32m----> 1\u001b[0m \u001b[38;5;28;01mfrom\u001b[39;00m \u001b[38;5;21;01mmmpose\u001b[39;00m\u001b[38;5;21;01m.\u001b[39;00m\u001b[38;5;21;01mapis\u001b[39;00m \u001b[38;5;28;01mimport\u001b[39;00m MMPoseInferencer\n\u001b[1;32m      2\u001b[0m inferencer \u001b[38;5;241m=\u001b[39m MMPoseInferencer(\u001b[38;5;124m'\u001b[39m\u001b[38;5;124mhuman\u001b[39m\u001b[38;5;124m'\u001b[39m)\n",
      "\u001b[0;31mModuleNotFoundError\u001b[0m: No module named 'mmpose'"
     ]
    }
   ],
   "source": [
    "from mmpose.apis import MMPoseInferencer\n",
    "inferencer = MMPoseInferencer('human')"
   ]
  },
  {
   "cell_type": "code",
   "execution_count": 4,
   "metadata": {},
   "outputs": [],
   "source": [
    "dataset = \"tenniset\""
   ]
  },
  {
   "cell_type": "code",
   "execution_count": null,
   "metadata": {},
   "outputs": [],
   "source": [
    "from torch import Dataset # Fix\n",
    "\n",
    "class VideoAndKeypointDataset(Dataset):\n",
    "    def __init__(self,\n",
    "                 dataset_path: str):\n",
    "        self.dataset_rooot_path = dataset_path\n",
    "\n",
    "        self.segments_path = os.path.join(dataset_path, \"segments\")\n",
    "        self.labels_path = os.path.join(dataset_path, \"labels\")\n",
    "\n",
    "        self.segments = os.listdir(self.segments_path)\n",
    "        self.labels = os.listdir(self.labels_path)\n",
    "\n",
    "    def __len__(self):\n",
    "        \"\"\"\n",
    "        We are measuring length in terms of the number of video segments (~ number of points played)\n",
    "        \"\"\"\n",
    "        return len(self.segments)\n",
    "\n",
    "    def __getitem__(self, idx):\n",
    "        poses_2d = self._get_player_poses(idx)\n",
    "        cropped_video = self._get_segment_video(idx)\n",
    "\n",
    "        assert len(poses_2d) == len(cropped_video)\n",
    "\n",
    "        sample = {\n",
    "            poses_2d: poses_2d,\n",
    "            cropped_video: cropped_video\n",
    "        }\n",
    "\n",
    "        return sample\n",
    "\n",
    "    def _get_segment_video(self, idx):\n",
    "        video_file_name = self.segments[idx]\n",
    "        video_file = os.path.join(self.segments_path, video_file_name)\n",
    "\n",
    "        video_frames = [] # TODO: load video\n",
    "\n",
    "        return video_frames\n",
    "    \n",
    "    def _get_segment_poses(self, idx):\n",
    "        label_file_name = self.labels[idx]\n",
    "        player_pose_file = os.path.join(self.labels_path, label_file_name)\n",
    "        poses = [] # TODO: load file contents\n",
    "\n",
    "        return poses\n"
   ]
  }
 ],
 "metadata": {
  "kernelspec": {
   "display_name": "Python 3",
   "language": "python",
   "name": "python3"
  },
  "language_info": {
   "codemirror_mode": {
    "name": "ipython",
    "version": 3
   },
   "file_extension": ".py",
   "mimetype": "text/x-python",
   "name": "python",
   "nbconvert_exporter": "python",
   "pygments_lexer": "ipython3",
   "version": "3.9.6"
  }
 },
 "nbformat": 4,
 "nbformat_minor": 2
}
