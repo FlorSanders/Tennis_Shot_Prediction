{
 "cells": [
  {
   "cell_type": "markdown",
   "id": "d1ab6a6f-d969-40c3-82b4-ea39e05c19d2",
   "metadata": {},
   "source": [
    "# Split Data\n",
    "\n",
    "Split dataset into train/validation/test split"
   ]
  },
  {
   "cell_type": "code",
   "execution_count": null,
   "id": "482f0a10-3784-43ac-ac52-f7352ea4223b",
   "metadata": {},
   "outputs": [],
   "source": [
    "import os\n",
    "import glob\n",
    "import shutil\n",
    "from tqdm import tqdm\n",
    "from sklearn.model_selection import train_test_split\n",
    "from __init__ import data_path"
   ]
  },
  {
   "cell_type": "code",
   "execution_count": null,
   "id": "19b9d290-ca2d-4b81-8893-41d0d76e675e",
   "metadata": {},
   "outputs": [],
   "source": [
    "!rm -rf \"/home/florsanders/adl_ai_tennis_coach/data/tenniset/shot_labels/train\"\n",
    "!rm -rf \"/home/florsanders/adl_ai_tennis_coach/data/tenniset/shot_labels/val\"\n",
    "!rm -rf \"/home/florsanders/adl_ai_tennis_coach/data/tenniset/shot_labels/test\""
   ]
  },
  {
   "cell_type": "code",
   "execution_count": null,
   "id": "8d0d2657-c7d4-48dd-ac70-443a538833cd",
   "metadata": {},
   "outputs": [],
   "source": [
    "labels_path = os.path.join(data_path, \"tenniset\", \"shot_labels\")\n",
    "labels_files = os.listdir(labels_path)"
   ]
  },
  {
   "cell_type": "code",
   "execution_count": null,
   "id": "19b86e88-d304-401d-bbb2-b66df37b0ef2",
   "metadata": {},
   "outputs": [],
   "source": [
    "# Test set = V010_*\n",
    "test_vid = \"V010\"\n",
    "test_dir = os.path.join(labels_path, \"test\")\n",
    "os.makedirs(test_dir, exist_ok=True)\n",
    "test_files = glob.glob(os.path.join(labels_path, f\"{test_vid}*\"))\n",
    "for test_file in tqdm(test_files):\n",
    "    test_filename = os.path.basename(test_file)\n",
    "    shutil.copy(test_file, os.path.join(test_dir, test_filename))"
   ]
  },
  {
   "cell_type": "code",
   "execution_count": null,
   "id": "023d2e96-5e52-4b64-a35f-3eaa953cfc77",
   "metadata": {},
   "outputs": [],
   "source": [
    "# Train/Val splits => Remaining videos + sklearn data splitting\n",
    "val_frac = 0.2\n",
    "train_frac = 1 - val_frac\n",
    "train_dir = os.path.join(labels_path, \"train\")\n",
    "os.makedirs(train_dir, exist_ok=True)\n",
    "val_dir = os.path.join(labels_path, \"val\")\n",
    "os.makedirs(val_dir, exist_ok=True)\n",
    "vids = [\"V006\", \"V007\", \"V008\", \"V009\"]\n",
    "for vid in vids:\n",
    "    # Load files for said annotation\n",
    "    vid_files = list(sorted(glob.glob(os.path.join(labels_path, f\"{vid}*_info.json\"))))\n",
    "\n",
    "    # Train validation splits\n",
    "    train_files, val_files = train_test_split(vid_files, test_size=val_frac, random_state=42)\n",
    "    \n",
    "    # Copy train files\n",
    "    for train_info_file in tqdm(sorted(train_files)):\n",
    "        train_basename = os.path.basename(train_info_file.replace(\"_info.json\", \"\"))\n",
    "        for train_file in sorted(glob.glob(os.path.join(labels_path, f\"{train_basename}*\"))):\n",
    "            train_filename = os.path.basename(train_file)\n",
    "            shutil.copy(train_file, os.path.join(train_dir, train_filename))\n",
    "\n",
    "    # Copy validation files\n",
    "    for val_info_file in tqdm(sorted(val_files)):\n",
    "        val_basename = os.path.basename(val_info_file.replace(\"_info.json\", \"\"))\n",
    "        for val_file in sorted(glob.glob(os.path.join(labels_path, f\"{val_basename}*\"))):\n",
    "            val_filename = os.path.basename(val_file)\n",
    "            shutil.copy(val_file, os.path.join(val_dir, val_filename))"
   ]
  },
  {
   "cell_type": "code",
   "execution_count": null,
   "id": "eec11ad6-6835-4522-8800-fdd08f86a43d",
   "metadata": {},
   "outputs": [],
   "source": [
    "print(len(os.listdir(train_dir)))\n",
    "print(len(os.listdir(val_dir)))\n",
    "print(len(os.listdir(test_dir)))"
   ]
  },
  {
   "cell_type": "code",
   "execution_count": null,
   "id": "e14b749a-bf88-4043-b540-74d28bc314e9",
   "metadata": {},
   "outputs": [],
   "source": []
  }
 ],
 "metadata": {
  "kernelspec": {
   "display_name": "Python 3 (ipykernel)",
   "language": "python",
   "name": "python3"
  },
  "language_info": {
   "codemirror_mode": {
    "name": "ipython",
    "version": 3
   },
   "file_extension": ".py",
   "mimetype": "text/x-python",
   "name": "python",
   "nbconvert_exporter": "python",
   "pygments_lexer": "ipython3",
   "version": "3.9.19"
  }
 },
 "nbformat": 4,
 "nbformat_minor": 5
}
