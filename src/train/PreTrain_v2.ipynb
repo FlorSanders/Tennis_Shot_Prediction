{
 "cells": [
  {
   "cell_type": "code",
   "execution_count": 4,
   "metadata": {},
   "outputs": [],
   "source": [
    "import sys\n",
    "\n",
    "path_to_model_directory = '../model'\n",
    "\n",
    "# Add this path to sys.path\n",
    "if path_to_model_directory not in sys.path:\n",
    "    sys.path.append(path_to_model_directory)\n",
    "\n",
    "# Now you can import your class\n",
    "from PreTrainer import PreTrainer"
   ]
  },
  {
   "cell_type": "code",
   "execution_count": 5,
   "metadata": {},
   "outputs": [],
   "source": [
    "# Load the PreTrainer\n",
    "BATCH_SIZE = 32\n",
    "LR = 0.001\n",
    "EPOCHS = 10\n",
    "train_path = '/home/florsanders/adl_ai_tennis_coach/data/tenniset/shot_labels/train'\n",
    "val_path = '/home/florsanders/adl_ai_tennis_coach/data/tenniset/shot_labels/val'\n",
    "model_config_file = '/home/tawab/e6691-2024spring-project-TECO-as7092-gyt2107-fps2116/src/model/configs/default.yaml'"
   ]
  },
  {
   "cell_type": "code",
   "execution_count": 7,
   "metadata": {},
   "outputs": [
    {
     "name": "stdout",
     "output_type": "stream",
     "text": [
      "Skipping V006_0068: Incorrect dimensions - positions_2d (0, 2), poses_3d (0,)\n",
      "Skipping V006_0179: Incorrect dimensions - positions_2d (0, 2), poses_3d (0,)\n",
      "Skipping V007_0183: Incorrect dimensions - positions_2d (0, 2), poses_3d (0,)\n",
      "Skipping V007_0184: Incorrect dimensions - positions_2d (0, 2), poses_3d (0,)\n",
      "Skipping V008_0003: Data file not found.\n",
      "Skipping V008_0056: Incorrect dimensions - positions_2d (0, 2), poses_3d (0,)\n",
      "Skipping V008_0156: Incorrect dimensions - positions_2d (0, 2), poses_3d (0,)\n",
      "Skipping V009_0017: Incorrect dimensions - positions_2d (0, 2), poses_3d (0,)\n",
      "Skipping V009_0924: Incorrect dimensions - positions_2d (0, 2), poses_3d (0,)\n",
      "Skipping V009_0947: Incorrect dimensions - positions_2d (0, 2), poses_3d (0,)\n",
      "Skipping V009_0948: Incorrect dimensions - positions_2d (0, 2), poses_3d (0,)\n",
      "Skipping V009_1045: Incorrect dimensions - positions_2d (0, 2), poses_3d (0,)\n",
      "Skipping V009_1281: Incorrect dimensions - positions_2d (0, 2), poses_3d (0,)\n",
      "Skipping V009_1282: Incorrect dimensions - positions_2d (0, 2), poses_3d (0,)\n",
      "Skipping V009_1542: Incorrect dimensions - positions_2d (0, 2), poses_3d (0,)\n",
      "Skipping V009_1553: Incorrect dimensions - positions_2d (0, 2), poses_3d (0,)\n",
      "Skipping V009_1734: Incorrect dimensions - positions_2d (0, 2), poses_3d (0,)\n",
      "Skipping V009_1742: Incorrect dimensions - positions_2d (0, 2), poses_3d (0,)\n",
      "Skipping V009_1860: Incorrect dimensions - positions_2d (0, 2), poses_3d (0,)\n",
      "Skipping V006_0066: Incorrect dimensions - positions_2d (0, 2), poses_3d (0,)\n",
      "Skipping V006_0178: Incorrect dimensions - positions_2d (0, 2), poses_3d (0,)\n",
      "Skipping V009_1046: Incorrect dimensions - positions_2d (0, 2), poses_3d (0,)\n",
      "Skipping V009_1639: Incorrect dimensions - positions_2d (0, 2), poses_3d (0,)\n",
      "Using device: cuda\n"
     ]
    }
   ],
   "source": [
    "# Trainer Setup\n",
    "trainer = PreTrainer(\n",
    "    batch_size=BATCH_SIZE,\n",
    "    lr=LR,\n",
    "    epochs=EPOCHS,\n",
    "    train_path=train_path,\n",
    "    val_path=val_path,\n",
    "    model_config_path=model_config_file\n",
    ")"
   ]
  },
  {
   "cell_type": "code",
   "execution_count": 8,
   "metadata": {},
   "outputs": [
    {
     "name": "stdout",
     "output_type": "stream",
     "text": [
      "Epoch 1, Loss: 4.3892199590172565\n",
      "Test Loss: 3.8792288303375244\n",
      "Epoch 2, Loss: 3.8762943543178934\n",
      "Test Loss: 3.841962734858195\n",
      "Epoch 3, Loss: 3.7522318296029535\n",
      "Test Loss: 3.5355200502607556\n",
      "Epoch 4, Loss: 2.0885988826483066\n",
      "Test Loss: 0.8653882013426887\n",
      "Epoch 5, Loss: 0.7307362598432622\n",
      "Test Loss: 0.7242493993706174\n",
      "Epoch 6, Loss: 0.67309780691711\n",
      "Test Loss: 0.6832493543624878\n",
      "Epoch 7, Loss: 0.6437299259951417\n",
      "Test Loss: 0.6656446042988036\n",
      "Epoch 8, Loss: 0.6231982947235376\n",
      "Test Loss: 0.6091782632801268\n",
      "Epoch 9, Loss: 0.5776030882983141\n",
      "Test Loss: 0.5855830427673128\n",
      "Epoch 10, Loss: 0.555413370401087\n",
      "Test Loss: 0.5524877508481344\n"
     ]
    }
   ],
   "source": [
    "trainer.train()"
   ]
  },
  {
   "cell_type": "code",
   "execution_count": null,
   "metadata": {},
   "outputs": [],
   "source": []
  }
 ],
 "metadata": {
  "kernelspec": {
   "display_name": "teco",
   "language": "python",
   "name": "python3"
  },
  "language_info": {
   "codemirror_mode": {
    "name": "ipython",
    "version": 3
   },
   "file_extension": ".py",
   "mimetype": "text/x-python",
   "name": "python",
   "nbconvert_exporter": "python",
   "pygments_lexer": "ipython3",
   "version": "3.9.19"
  }
 },
 "nbformat": 4,
 "nbformat_minor": 2
}
