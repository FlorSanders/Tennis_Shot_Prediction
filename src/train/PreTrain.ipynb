{
 "cells": [
  {
   "cell_type": "markdown",
   "metadata": {},
   "source": [
    "# Model Pre-Training"
   ]
  },
  {
   "cell_type": "markdown",
   "metadata": {},
   "source": [
    "## Setup"
   ]
  },
  {
   "cell_type": "code",
   "execution_count": 32,
   "metadata": {},
   "outputs": [
    {
     "name": "stdout",
     "output_type": "stream",
     "text": [
      "The autoreload extension is already loaded. To reload it, use:\n",
      "  %reload_ext autoreload\n"
     ]
    }
   ],
   "source": [
    "%matplotlib inline\n",
    "%load_ext autoreload\n",
    "%autoreload 2"
   ]
  },
  {
   "cell_type": "code",
   "execution_count": 33,
   "metadata": {},
   "outputs": [],
   "source": [
    "# Import libraries\n",
    "import sys\n",
    "import os\n",
    "import json\n",
    "import numpy as np\n",
    "import matplotlib.pyplot as plt\n",
    "plt.style.use(\"tableau-colorblind10\")\n",
    "plt.rcParams[\"font.size\"] = 18"
   ]
  },
  {
   "cell_type": "code",
   "execution_count": 34,
   "metadata": {},
   "outputs": [],
   "source": [
    "# Add model path to sys.path\n",
    "path_to_model_directory = os.path.abspath(\"../model\")\n",
    "if path_to_model_directory not in sys.path:\n",
    "    sys.path.append(path_to_model_directory)\n",
    "\n",
    "# Now you can import your class\n",
    "from PreTrainer import PreTrainer\n",
    "from data import validate_data_format, ServeDataset, HitDataset\n",
    "from TennisShotEmbedder import TennisShotEmbedder"
   ]
  },
  {
   "cell_type": "code",
   "execution_count": 35,
   "metadata": {},
   "outputs": [],
   "source": [
    "# Configure the PreTrainer\n",
    "BATCH_SIZE = 32\n",
    "LR = 0.001\n",
    "EPOCHS = 50\n",
    "train_path = '/home/florsanders/adl_ai_tennis_coach/data/tenniset/shot_labels/train'\n",
    "val_path = '/home/florsanders/adl_ai_tennis_coach/data/tenniset/shot_labels/val'\n",
    "test_path = '/home/florsanders/adl_ai_tennis_coach/data/tenniset/shot_labels/test'\n",
    "model_config_file = '/home/tawab/e6691-2024spring-project-TECO-as7092-gyt2107-fps2116/src/model/configs/default.yaml'"
   ]
  },
  {
   "cell_type": "code",
   "execution_count": 5,
   "metadata": {},
   "outputs": [
    {
     "name": "stdout",
     "output_type": "stream",
     "text": [
      "Total files: 2248\n",
      "Invalid Files: 0\n",
      "Valid Files: 2248\n",
      "Percentage of valid files: 100.0%\n"
     ]
    }
   ],
   "source": [
    "# Validate Train Data\n",
    "train_invalid_data_path = validate_data_format(train_path)"
   ]
  },
  {
   "cell_type": "code",
   "execution_count": 6,
   "metadata": {},
   "outputs": [
    {
     "name": "stdout",
     "output_type": "stream",
     "text": [
      "Total files: 565\n",
      "Invalid Files: 0\n",
      "Valid Files: 565\n",
      "Percentage of valid files: 100.0%\n"
     ]
    }
   ],
   "source": [
    "# Validate Val Data\n",
    "val_invalid_data_path = validate_data_format(val_path)"
   ]
  },
  {
   "cell_type": "code",
   "execution_count": 7,
   "metadata": {},
   "outputs": [
    {
     "name": "stdout",
     "output_type": "stream",
     "text": [
      "Total files: 370\n",
      "Invalid Files: 0\n",
      "Valid Files: 370\n",
      "Percentage of valid files: 100.0%\n"
     ]
    }
   ],
   "source": [
    "# Validate Val Data\n",
    "test_invalid_data_path = validate_data_format(test_path)"
   ]
  },
  {
   "cell_type": "code",
   "execution_count": 8,
   "metadata": {},
   "outputs": [],
   "source": [
    "if not os.path.exists(\"./invalid_files.json\"):\n",
    "    with open(\"./invalid_files.json\", \"w\") as f:\n",
    "        invalid_files = {\n",
    "            \"train\": train_invalid_data_path,\n",
    "            \"val\": val_invalid_data_path,\n",
    "            \"test\": test_invalid_data_path\n",
    "        }\n",
    "        json.dump(invalid_files, f)"
   ]
  },
  {
   "cell_type": "markdown",
   "metadata": {},
   "source": [
    "## Training"
   ]
  },
  {
   "cell_type": "code",
   "execution_count": 9,
   "metadata": {},
   "outputs": [
    {
     "name": "stdout",
     "output_type": "stream",
     "text": [
      "Using device: cuda\n"
     ]
    }
   ],
   "source": [
    "# Trainer Setup\n",
    "trainer = PreTrainer(\n",
    "    batch_size=BATCH_SIZE,\n",
    "    lr=LR,\n",
    "    epochs=EPOCHS,\n",
    "    train_path=train_path,\n",
    "    val_path=val_path,\n",
    "    model_config_path=model_config_file,\n",
    "    model_save_path='trained_models'\n",
    ")"
   ]
  },
  {
   "cell_type": "code",
   "execution_count": null,
   "metadata": {},
   "outputs": [
    {
     "name": "stderr",
     "output_type": "stream",
     "text": [
      "100%|█████████████████████████████████████████████████████████| 70/70 [00:17<00:00,  3.98it/s]\n"
     ]
    },
    {
     "name": "stdout",
     "output_type": "stream",
     "text": [
      "Epoch 1, Loss: 0.2303910300667797\n",
      "Validation Loss: 0.06699909932083553\n",
      "Saving model at trained_models with validation loss of 0.06699909932083553\n"
     ]
    },
    {
     "name": "stderr",
     "output_type": "stream",
     "text": [
      "100%|█████████████████████████████████████████████████████████| 70/70 [00:16<00:00,  4.17it/s]\n"
     ]
    },
    {
     "name": "stdout",
     "output_type": "stream",
     "text": [
      "Epoch 2, Loss: 0.058986256537692884\n",
      "Validation Loss: 0.05578536871406767\n",
      "Saving model at trained_models with validation loss of 0.05578536871406767\n"
     ]
    },
    {
     "name": "stderr",
     "output_type": "stream",
     "text": [
      "100%|█████████████████████████████████████████████████████████| 70/70 [00:17<00:00,  4.04it/s]\n"
     ]
    },
    {
     "name": "stdout",
     "output_type": "stream",
     "text": [
      "Epoch 3, Loss: 0.052577965121184074\n",
      "Validation Loss: 0.05340303522017267\n",
      "Saving model at trained_models with validation loss of 0.05340303522017267\n"
     ]
    },
    {
     "name": "stderr",
     "output_type": "stream",
     "text": [
      "100%|█████████████████████████████████████████████████████████| 70/70 [00:16<00:00,  4.19it/s]\n"
     ]
    },
    {
     "name": "stdout",
     "output_type": "stream",
     "text": [
      "Epoch 4, Loss: 0.05141281597316265\n",
      "Validation Loss: 0.05322703222433726\n",
      "Saving model at trained_models with validation loss of 0.05322703222433726\n"
     ]
    },
    {
     "name": "stderr",
     "output_type": "stream",
     "text": [
      "100%|█████████████████████████████████████████████████████████| 70/70 [00:16<00:00,  4.20it/s]\n"
     ]
    },
    {
     "name": "stdout",
     "output_type": "stream",
     "text": [
      "Epoch 5, Loss: 0.051381815703851835\n",
      "Validation Loss: 0.05275031427542368\n",
      "Saving model at trained_models with validation loss of 0.05275031427542368\n"
     ]
    },
    {
     "name": "stderr",
     "output_type": "stream",
     "text": [
      "100%|█████████████████████████████████████████████████████████| 70/70 [00:17<00:00,  3.99it/s]\n"
     ]
    },
    {
     "name": "stdout",
     "output_type": "stream",
     "text": [
      "Epoch 6, Loss: 0.04935416265257767\n",
      "Validation Loss: 0.048730045557022095\n",
      "Saving model at trained_models with validation loss of 0.048730045557022095\n"
     ]
    },
    {
     "name": "stderr",
     "output_type": "stream",
     "text": [
      "100%|█████████████████████████████████████████████████████████| 70/70 [00:16<00:00,  4.13it/s]\n"
     ]
    },
    {
     "name": "stdout",
     "output_type": "stream",
     "text": [
      "Epoch 7, Loss: 0.04634011709796531\n",
      "Validation Loss: 0.049208645398418106\n"
     ]
    },
    {
     "name": "stderr",
     "output_type": "stream",
     "text": [
      "100%|█████████████████████████████████████████████████████████| 70/70 [00:17<00:00,  4.11it/s]\n"
     ]
    },
    {
     "name": "stdout",
     "output_type": "stream",
     "text": [
      "Epoch 8, Loss: 0.0454807491174766\n",
      "Validation Loss: 0.045298157466782465\n",
      "Saving model at trained_models with validation loss of 0.045298157466782465\n"
     ]
    },
    {
     "name": "stderr",
     "output_type": "stream",
     "text": [
      "100%|█████████████████████████████████████████████████████████| 70/70 [00:17<00:00,  4.03it/s]\n"
     ]
    },
    {
     "name": "stdout",
     "output_type": "stream",
     "text": [
      "Epoch 9, Loss: 0.04351637552359274\n",
      "Validation Loss: 0.044081577927702\n",
      "Saving model at trained_models with validation loss of 0.044081577927702\n"
     ]
    },
    {
     "name": "stderr",
     "output_type": "stream",
     "text": [
      "100%|█████████████████████████████████████████████████████████| 70/70 [00:16<00:00,  4.17it/s]\n"
     ]
    },
    {
     "name": "stdout",
     "output_type": "stream",
     "text": [
      "Epoch 10, Loss: 0.0422158256439226\n",
      "Validation Loss: 0.04212299361824989\n",
      "Saving model at trained_models with validation loss of 0.04212299361824989\n"
     ]
    },
    {
     "name": "stderr",
     "output_type": "stream",
     "text": [
      "100%|█████████████████████████████████████████████████████████| 70/70 [00:17<00:00,  4.09it/s]\n"
     ]
    },
    {
     "name": "stdout",
     "output_type": "stream",
     "text": [
      "Epoch 11, Loss: 0.04079023421342884\n",
      "Validation Loss: 0.041117426111466356\n",
      "Saving model at trained_models with validation loss of 0.041117426111466356\n"
     ]
    },
    {
     "name": "stderr",
     "output_type": "stream",
     "text": [
      "100%|█████████████████████████████████████████████████████████| 70/70 [00:17<00:00,  4.04it/s]\n"
     ]
    },
    {
     "name": "stdout",
     "output_type": "stream",
     "text": [
      "Epoch 12, Loss: 0.04024311953357288\n",
      "Validation Loss: 0.04121794437782632\n"
     ]
    },
    {
     "name": "stderr",
     "output_type": "stream",
     "text": [
      "100%|█████████████████████████████████████████████████████████| 70/70 [00:16<00:00,  4.23it/s]\n"
     ]
    },
    {
     "name": "stdout",
     "output_type": "stream",
     "text": [
      "Epoch 13, Loss: 0.04035384670964309\n",
      "Validation Loss: 0.04032427062176996\n",
      "Saving model at trained_models with validation loss of 0.04032427062176996\n"
     ]
    },
    {
     "name": "stderr",
     "output_type": "stream",
     "text": [
      "100%|█████████████████████████████████████████████████████████| 70/70 [00:17<00:00,  4.10it/s]\n"
     ]
    },
    {
     "name": "stdout",
     "output_type": "stream",
     "text": [
      "Epoch 14, Loss: 0.03976871578821114\n",
      "Validation Loss: 0.039829686801466674\n",
      "Saving model at trained_models with validation loss of 0.039829686801466674\n"
     ]
    },
    {
     "name": "stderr",
     "output_type": "stream",
     "text": [
      "100%|█████████████████████████████████████████████████████████| 70/70 [00:17<00:00,  4.07it/s]\n"
     ]
    },
    {
     "name": "stdout",
     "output_type": "stream",
     "text": [
      "Epoch 15, Loss: 0.0393363142652171\n",
      "Validation Loss: 0.0396665186724729\n",
      "Saving model at trained_models with validation loss of 0.0396665186724729\n"
     ]
    },
    {
     "name": "stderr",
     "output_type": "stream",
     "text": [
      " 81%|██████████████████████████████████████████████▍          | 57/70 [00:13<00:03,  4.29it/s]"
     ]
    }
   ],
   "source": [
    "# Perform training\n",
    "train_history, val_history = trainer.train()"
   ]
  },
  {
   "cell_type": "code",
   "execution_count": null,
   "metadata": {},
   "outputs": [],
   "source": [
    "# Plot training & validation history\n",
    "fig, ax = plt.subplots(figsize=(8, 4.5))\n",
    "ax.plot(train_history / len(trainer.train_loader), label=\"Train\")\n",
    "ax.plot(val_history, label=\"Validation\")\n",
    "ax.set_xlabel(\"Epoch\")\n",
    "ax.set_ylabel(\"Loss\")\n",
    "ax.set_xlim(0, EPOCHS-1)\n",
    "ax.set_ylim(0)\n",
    "ax.grid(True)\n",
    "ax.legend()\n",
    "fig.tight_layout()\n",
    "fig.\n",
    "plt.show()"
   ]
  },
  {
   "cell_type": "code",
   "execution_count": null,
   "metadata": {},
   "outputs": [],
   "source": []
  },
  {
   "cell_type": "code",
   "execution_count": null,
   "metadata": {},
   "outputs": [],
   "source": []
  }
 ],
 "metadata": {
  "kernelspec": {
   "display_name": "Python 3 (ipykernel)",
   "language": "python",
   "name": "python3"
  },
  "language_info": {
   "codemirror_mode": {
    "name": "ipython",
    "version": 3
   },
   "file_extension": ".py",
   "mimetype": "text/x-python",
   "name": "python",
   "nbconvert_exporter": "python",
   "pygments_lexer": "ipython3",
   "version": "3.9.19"
  }
 },
 "nbformat": 4,
 "nbformat_minor": 4
}
